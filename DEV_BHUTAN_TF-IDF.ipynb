{
 "cells": [
  {
   "cell_type": "code",
   "execution_count": 1,
   "metadata": {
    "collapsed": true
   },
   "outputs": [],
   "source": [
    "from sklearn.feature_extraction.text import TfidfVectorizer\n",
    "import nltk\n",
    "import pandas as pd\n",
    "\n",
    "dir = 'C:\\\\Users\\\\Travis Park\\\\Google Drive\\\\UN\\\\Team MOZART RAP\\\\'"
   ]
  },
  {
   "cell_type": "code",
   "execution_count": null,
   "metadata": {
    "collapsed": true
   },
   "outputs": [],
   "source": [
    "'''To-Do\n",
    "    -Include keyword synonyms in TF-IDF\n",
    "    -Should we stem the targets and input text?\n",
    "    -POS and structure\n",
    "    -The paragraphs need to be rolled up by Policy Area/Sector\n",
    "'''"
   ]
  },
  {
   "cell_type": "code",
   "execution_count": 2,
   "metadata": {
    "collapsed": false
   },
   "outputs": [],
   "source": [
    "SDG_Targets = pd.read_excel(dir +'SDG.xlsx', names = ['ID', 'Target'],sheetname = 'Sheet1')"
   ]
  },
  {
   "cell_type": "code",
   "execution_count": 3,
   "metadata": {
    "collapsed": true
   },
   "outputs": [],
   "source": [
    "#writes country SDG report to list 'f' split by paragraph\n",
    "f = open(dir + 'Bhutan_doc_test.txt', 'r')\n",
    "f = f.read().replace('. \\n\\n','.\\n\\n').split('.\\n\\n')\n",
    "f = [w.replace('\\n',' ') for w in f]\n",
    "for w in f:\n",
    "    if len(w) <= 100:\n",
    "        f.remove(w)"
   ]
  },
  {
   "cell_type": "code",
   "execution_count": 4,
   "metadata": {
    "collapsed": false
   },
   "outputs": [
    {
     "data": {
      "text/plain": [
       "1049"
      ]
     },
     "execution_count": 4,
     "metadata": {},
     "output_type": "execute_result"
    }
   ],
   "source": [
    "len(f)"
   ]
  },
  {
   "cell_type": "code",
   "execution_count": 5,
   "metadata": {
    "collapsed": false
   },
   "outputs": [],
   "source": [
    "input_text = f"
   ]
  },
  {
   "cell_type": "code",
   "execution_count": 6,
   "metadata": {
    "collapsed": false
   },
   "outputs": [],
   "source": [
    "vectorizer =TfidfVectorizer(stop_words='english', min_df=1,lowercase = True) \n",
    "\n",
    "d_columns = ['Paragraph','Text','Target','Target_Text','CosineSimilarity']\n",
    "\n",
    "d = pd.DataFrame(columns = d_columns)\n",
    "\n",
    "def match_to_target(inputlist,paragraphnumber):   \n",
    "    #runs tfidf vectorizer with paragraph against all targets, returns the target with highest cosine similarity\n",
    "    global d    \n",
    "    add_paragraph(inputlist,paragraphnumber)\n",
    "    x = vectorizer.fit_transform(inputlist)\n",
    "    y = pd.DataFrame((x * x.T).A)\n",
    "    z = len(inputlist)-1\n",
    "    y1 = max(y[(y[z] < 0.999999)][z])\n",
    "    y_value = y[z].loc[y[z] == y1].index.tolist()\n",
    "    y_value = y_value[0]   \n",
    "    \n",
    "    indx = SDG_Targets.loc[SDG_Targets['Target']==inputlist[y_value]]['ID'].tolist()\n",
    "    indx = indx[0]\n",
    "    indx_text = SDG_Targets.loc[SDG_Targets['ID']==indx]['Target'].tolist()\n",
    "    indx_text = indx_text[0]\n",
    "    \n",
    "    d1 = pd.DataFrame([[paragraphnumber,inputlist[len(inputlist)-1],indx, indx_text, y1]], columns = d_columns)\n",
    "    d =pd.concat([d,d1])\n",
    "    \n",
    "targets = []\n",
    "\n",
    "def process_targets(df_targets):\n",
    "    #appends all targets in file to a dataframe\n",
    "\n",
    "    targets.clear()\n",
    "    b = 0\n",
    "    while b < len(df_targets):\n",
    "        targets.append(df_targets['Target'][b])\n",
    "        b=b+1\n",
    "\n",
    "flag=0\n",
    "\n",
    "def add_paragraph(inputlist,paragraphnumber):\n",
    "    #adds one paragraph to list of targets\n",
    "    global flag\n",
    "    if flag == 1:#if a paragraph has already been appended, replace it with a new one\n",
    "        inputlist[len(inputlist)-1] = input_text[paragraphnumber]\n",
    "    elif flag == 0:#if no paragraph has been appended, add a new one\n",
    "        targets.append(input_text[0])\n",
    "        flag = 1"
   ]
  },
  {
   "cell_type": "code",
   "execution_count": 7,
   "metadata": {
    "collapsed": false
   },
   "outputs": [],
   "source": [
    "process_targets(SDG_Targets)"
   ]
  },
  {
   "cell_type": "code",
   "execution_count": 8,
   "metadata": {
    "collapsed": false
   },
   "outputs": [],
   "source": [
    "i=0\n",
    "while i < len(input_text):\n",
    "    match_to_target(targets,i)\n",
    "    i=i+1"
   ]
  },
  {
   "cell_type": "code",
   "execution_count": 9,
   "metadata": {
    "collapsed": false
   },
   "outputs": [
    {
     "data": {
      "text/html": [
       "<div>\n",
       "<table border=\"1\" class=\"dataframe\">\n",
       "  <thead>\n",
       "    <tr style=\"text-align: right;\">\n",
       "      <th></th>\n",
       "      <th>Paragraph</th>\n",
       "      <th>Text</th>\n",
       "      <th>Target</th>\n",
       "      <th>Target_Text</th>\n",
       "      <th>CosineSimilarity</th>\n",
       "    </tr>\n",
       "  </thead>\n",
       "  <tbody>\n",
       "    <tr>\n",
       "      <th>0</th>\n",
       "      <td>0.0</td>\n",
       "      <td>Eleventh Five Year Plan - Main Document Volume...</td>\n",
       "      <td>8.1</td>\n",
       "      <td>Sustain per capita economic growth in accorda...</td>\n",
       "      <td>0.079055</td>\n",
       "    </tr>\n",
       "    <tr>\n",
       "      <th>0</th>\n",
       "      <td>1.0</td>\n",
       "      <td>ISBN 978-99936-55-01-5   \f",
       " Eleventh Five Year ...</td>\n",
       "      <td>8.1</td>\n",
       "      <td>Sustain per capita economic growth in accorda...</td>\n",
       "      <td>0.097158</td>\n",
       "    </tr>\n",
       "    <tr>\n",
       "      <th>0</th>\n",
       "      <td>2.0</td>\n",
       "      <td>The government has provided education to our y...</td>\n",
       "      <td>8.6</td>\n",
       "      <td>By 2020, substantially reduce the proportion ...</td>\n",
       "      <td>0.232484</td>\n",
       "    </tr>\n",
       "    <tr>\n",
       "      <th>0</th>\n",
       "      <td>3.0</td>\n",
       "      <td>The recent Rupee shortage is a serious proble...</td>\n",
       "      <td>11.4</td>\n",
       "      <td>Strengthen efforts to protect and safeguard t...</td>\n",
       "      <td>0.114321</td>\n",
       "    </tr>\n",
       "    <tr>\n",
       "      <th>0</th>\n",
       "      <td>4.0</td>\n",
       "      <td>- His Majesty The King’s address to the nat...</td>\n",
       "      <td>14.3</td>\n",
       "      <td>Minimize and address the impacts of ocean aci...</td>\n",
       "      <td>0.065184</td>\n",
       "    </tr>\n",
       "  </tbody>\n",
       "</table>\n",
       "</div>"
      ],
      "text/plain": [
       "   Paragraph                                               Text  Target  \\\n",
       "0        0.0  Eleventh Five Year Plan - Main Document Volume...     8.1   \n",
       "0        1.0  ISBN 978-99936-55-01-5   \n",
       " Eleventh Five Year ...     8.1   \n",
       "0        2.0  The government has provided education to our y...     8.6   \n",
       "0        3.0   The recent Rupee shortage is a serious proble...    11.4   \n",
       "0        4.0     - His Majesty The King’s address to the nat...    14.3   \n",
       "\n",
       "                                         Target_Text  CosineSimilarity  \n",
       "0   Sustain per capita economic growth in accorda...          0.079055  \n",
       "0   Sustain per capita economic growth in accorda...          0.097158  \n",
       "0   By 2020, substantially reduce the proportion ...          0.232484  \n",
       "0   Strengthen efforts to protect and safeguard t...          0.114321  \n",
       "0   Minimize and address the impacts of ocean aci...          0.065184  "
      ]
     },
     "execution_count": 9,
     "metadata": {},
     "output_type": "execute_result"
    }
   ],
   "source": [
    "d.head()"
   ]
  },
  {
   "cell_type": "code",
   "execution_count": 10,
   "metadata": {
    "collapsed": false
   },
   "outputs": [],
   "source": [
    "d.to_csv(dir + 'TFIDF.csv')"
   ]
  },
  {
   "cell_type": "code",
   "execution_count": null,
   "metadata": {
    "collapsed": true
   },
   "outputs": [],
   "source": []
  }
 ],
 "metadata": {
  "anaconda-cloud": {},
  "kernelspec": {
   "display_name": "Python [conda root]",
   "language": "python",
   "name": "conda-root-py"
  },
  "language_info": {
   "codemirror_mode": {
    "name": "ipython",
    "version": 3
   },
   "file_extension": ".py",
   "mimetype": "text/x-python",
   "name": "python",
   "nbconvert_exporter": "python",
   "pygments_lexer": "ipython3",
   "version": "3.5.2"
  }
 },
 "nbformat": 4,
 "nbformat_minor": 1
}
