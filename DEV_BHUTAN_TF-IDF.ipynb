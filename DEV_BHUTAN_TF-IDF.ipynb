{
 "cells": [
  {
   "cell_type": "code",
   "execution_count": 1,
   "metadata": {
    "collapsed": true
   },
   "outputs": [],
   "source": [
    "from sklearn.feature_extraction.text import TfidfVectorizer\n",
    "import nltk\n",
    "import pandas as pd"
   ]
  },
  {
   "cell_type": "code",
   "execution_count": 2,
   "metadata": {
    "collapsed": false
   },
   "outputs": [],
   "source": [
    "SDG_Targets = pd.read_excel('C:\\\\Users\\\\Travis Park\\\\Google Drive\\\\UN\\\\Team MOZART RAP\\\\SDG.xlsx', names = ['ID', 'Target'],sheetname = 'Sheet1')"
   ]
  },
  {
   "cell_type": "code",
   "execution_count": 3,
   "metadata": {
    "collapsed": false
   },
   "outputs": [],
   "source": [
    "input_text = [\"On a multi-dimensional measure21, poverty in Bhutan is deemed to be 25.8 percent \\\n",
    "in 2010. The thirteen indicators that comprise Bhutan’s initial Multi-dimensional \\\n",
    "Poverty Index (MPI) measured in terms of health, education and living standards \\\n",
    "are i) primary schooling and ii) children out of school (education); iii) child mortality, \\\n",
    "iv) nutrition and v) food insecurity (health); and vi) electricity, vii) housing, viii) \\\n",
    "cooking fuel, ix) drinking water less than 30 minutes away, x) improved sanitation \\\n",
    "and xi) asset ownership of livestock, xii) land and xiii) appliances (living standards). \\\n",
    "The highest levels of deprivation pertain to access to improved sanitation (pit \\\n",
    "latrines with slab), cooking fuel (if wood, dung or charcoal used), schooling (five \\\n",
    "years of school education) and electricity. From the three core domains, education \\\n",
    "(41 percent) contributes the highest to multidimensional poverty followed by \\\n",
    "living standards (37 percent) and health (23 percent).\",\n",
    "              \"While the last review of Bhutan’s progress towards MDGs was carried out in \\\n",
    "November 200821, recent statistics indicate that Bhutan has made good progress. \\\n",
    "We have already achieved many of the targets and are on track to achieve most by \\\n",
    "2015 or earlier. Some of the MDGs falling behind are chronic malnutrition among \\\n",
    "children below the age of 5, ratio of female to male in tertiary institutions, maternal \\\n",
    "mortality rate, under five mortality rate, infant mortality rate, number of HIV cases \\\n",
    "detected and the growing youth unemployment. Accordingly, in the Eleventh Plan, \\\n",
    "the objective is to strive for MDG Plus targets, targets equivalent or near to that of \\\n",
    "the developed countries, for those goals already achieved and likely to be achieved \\\n",
    "and to accelerate progress towards those falling behind.\",\n",
    "             \"Gini-coefficient reduced - will be used to monitor inequalities. The target \\\n",
    "is to reduce from 0.36 in 2012 to 0.3 by 2017-18. Gini-coefficient usually \\\n",
    "ranges from 0.2 to 0.5. Even the most equal countries like Norway, Denmark, \\\n",
    "Sweden and Finland have a Gini coefficient of about 0.24 to 0.26. \\\n",
    "iv)\t MDG Plus achieved indicators are for the health and education sectors. In \\\n",
    "the area of health, the targets are to significantly reduce infant mortality \\\n",
    "rate, under five mortality rate, maternal mortality rates, incidence of \\\n",
    "tuberculosis and malaria and improve coverage of clean drinking water \\\n",
    "and improved sanitation. In the education sector, the main focus will be \\\n",
    "to ensure gender parity at tertiary levels, as Bhutan has already achieved \\\n",
    "the target for gender parity at primary and secondary school levels. The \\\n",
    "target set is at least 90 percent from the current 71 percent female to male \\\n",
    "in tertiary education. In terms of school enrollment rates the target is to \\\n",
    "achieve close to 100 percent by 2018.\",\n",
    "             \"tuberculosis\",\n",
    "             \"Gini-coefficient reduced - will be used to monitor inequalities. The target \\\n",
    "is to reduce from 0.36 in 2012 to 0.3 by 2017-18. Gini-coefficient usually \\\n",
    "ranges from 0.2 to 0.5. Even the most equal countries like Norway, Denmark, \\\n",
    "Sweden and Finland have a Gini coefficient of about 0.24 to 0.26. \\\n",
    "iv)\t MDG Plus achieved indicators are for the health and education sectors. In \\\n",
    "the area of health, the targets are to significantly reduce infant mortality \\\n",
    "rate, under five mortality rate, maternal mortality rates, incidence of \\\n",
    "tuberculosis and malaria and improve coverage of clean drinking water \\\n",
    "and improved sanitation. In the education sector, the main focus will be \\\n",
    "to ensure gender parity at tertiary levels, as Bhutan has already achieved \\\n",
    "the target for gender parity at primary and secondary school levels. The \\\n",
    "target set is at least 90 percent from the current 71 percent female to male \\\n",
    "in tertiary education. In terms of school enrollment rates the target is to \\\n",
    "achieve close to 100 percent by 2018.\",\n",
    "             \"Population Status of umbrella species (Tiger) maintained –The richness of \\\n",
    "prey species determines the health of ecosystem. The umbrella species \\\n",
    "used is tiger population and the target is to maintain 155 numbers. \\\n",
    "Water has been given special focus in the Eleventh Plan in view of its importance \\\n",
    "for the basic survival of all living beings and for our hydroelectric projects and \\\n",
    "agriculture. According to the Bhutan Environment Outlook 2008, Bhutan has the \\\n",
    "one of the world’s highest per capita availability of water with long-term mean \\\n",
    "annual flow estimated at 73,000 million m3 per annum and the per capita water \\\n",
    "availability estimated at 100,000 m3. However, shortage of drinking water is a major \\\n",
    "problem in many Dzongkhags and towns. The National Environment Commission \\\n",
    "is conducting the first ever water resource inventory in the country to assess the \\\n",
    "state of water availability and water sources. The findings from the assessment will \\\n",
    "be incorporated and the KPIs for water security updated in the course the Plan.\"]\n",
    "\n",
    "#this will eventually be sourced from country reports automatically"
   ]
  },
  {
   "cell_type": "code",
   "execution_count": 4,
   "metadata": {
    "collapsed": false
   },
   "outputs": [],
   "source": [
    "vectorizer =TfidfVectorizer(stop_words='english', min_df=1,lowercase = True) \n",
    "\n",
    "\n",
    "def match_to_target(inputlist,paragraphnumber):\n",
    "    #runs tfidf vectorizer with paragraph against all targets, returns the targe with highest cosine similarity\n",
    "    add_paragraph(inputlist,paragraphnumber)\n",
    "    x = vectorizer.fit_transform(inputlist)\n",
    "    y = pd.DataFrame((x * x.T).A)\n",
    "    z = len(inputlist)-1\n",
    "    y1 = max(y[(y[z] < 0.999999)][z])\n",
    "    y_value = y[z].loc[y[z] == y1].index.tolist()\n",
    "    y_value = y_value[0]\n",
    "    print(inputlist[len(inputlist)-1])\n",
    "    indx = SDG_Targets.loc[SDG_Targets['Target']==inputlist[y_value]]['ID'].tolist()\n",
    "    #indx = indx[0]\n",
    "    print(indx)\n",
    "    \n",
    "targets = []\n",
    "\n",
    "def process_targets(df_targets):\n",
    "    #appends all targets in file to a dataframe\n",
    "\n",
    "    targets.clear()\n",
    "    b = 0\n",
    "    while b < len(df_targets):\n",
    "        targets.append(df_targets['Target'][b])\n",
    "        b=b+1\n",
    "\n",
    "flag=0\n",
    "\n",
    "def add_paragraph(inputlist,paragraphnumber):\n",
    "    #adds one paragraph to list of targets\n",
    "    global flag\n",
    "    if flag == 1:#if a paragraph has already been appended, replace it with a new one\n",
    "        inputlist[len(inputlist)-1] = input_text[paragraphnumber]\n",
    "    elif flag == 0:#if no paragraph has been appended, add a new one\n",
    "        targets.append(input_text[0])\n",
    "        flag = 1"
   ]
  },
  {
   "cell_type": "code",
   "execution_count": 5,
   "metadata": {
    "collapsed": false
   },
   "outputs": [],
   "source": [
    "process_targets(SDG_Targets)"
   ]
  },
  {
   "cell_type": "code",
   "execution_count": 6,
   "metadata": {
    "collapsed": false
   },
   "outputs": [
    {
     "name": "stdout",
     "output_type": "stream",
     "text": [
      "On a multi-dimensional measure21, poverty in Bhutan is deemed to be 25.8 percent in 2010. The thirteen indicators that comprise Bhutan’s initial Multi-dimensional Poverty Index (MPI) measured in terms of health, education and living standards are i) primary schooling and ii) children out of school (education); iii) child mortality, iv) nutrition and v) food insecurity (health); and vi) electricity, vii) housing, viii) cooking fuel, ix) drinking water less than 30 minutes away, x) improved sanitation and xi) asset ownership of livestock, xii) land and xiii) appliances (living standards). The highest levels of deprivation pertain to access to improved sanitation (pit latrines with slab), cooking fuel (if wood, dung or charcoal used), schooling (five years of school education) and electricity. From the three core domains, education (41 percent) contributes the highest to multidimensional poverty followed by living standards (37 percent) and health (23 percent).\n",
      "[1.2]\n",
      "While the last review of Bhutan’s progress towards MDGs was carried out in November 200821, recent statistics indicate that Bhutan has made good progress. We have already achieved many of the targets and are on track to achieve most by 2015 or earlier. Some of the MDGs falling behind are chronic malnutrition among children below the age of 5, ratio of female to male in tertiary institutions, maternal mortality rate, under five mortality rate, infant mortality rate, number of HIV cases detected and the growing youth unemployment. Accordingly, in the Eleventh Plan, the objective is to strive for MDG Plus targets, targets equivalent or near to that of the developed countries, for those goals already achieved and likely to be achieved and to accelerate progress towards those falling behind.\n",
      "[3.1]\n",
      "Gini-coefficient reduced - will be used to monitor inequalities. The target is to reduce from 0.36 in 2012 to 0.3 by 2017-18. Gini-coefficient usually ranges from 0.2 to 0.5. Even the most equal countries like Norway, Denmark, Sweden and Finland have a Gini coefficient of about 0.24 to 0.26. iv)\t MDG Plus achieved indicators are for the health and education sectors. In the area of health, the targets are to significantly reduce infant mortality rate, under five mortality rate, maternal mortality rates, incidence of tuberculosis and malaria and improve coverage of clean drinking water and improved sanitation. In the education sector, the main focus will be to ensure gender parity at tertiary levels, as Bhutan has already achieved the target for gender parity at primary and secondary school levels. The target set is at least 90 percent from the current 71 percent female to male in tertiary education. In terms of school enrollment rates the target is to achieve close to 100 percent by 2018.\n",
      "[4.5]\n",
      "tuberculosis\n",
      "[3.3]\n",
      "Gini-coefficient reduced - will be used to monitor inequalities. The target is to reduce from 0.36 in 2012 to 0.3 by 2017-18. Gini-coefficient usually ranges from 0.2 to 0.5. Even the most equal countries like Norway, Denmark, Sweden and Finland have a Gini coefficient of about 0.24 to 0.26. iv)\t MDG Plus achieved indicators are for the health and education sectors. In the area of health, the targets are to significantly reduce infant mortality rate, under five mortality rate, maternal mortality rates, incidence of tuberculosis and malaria and improve coverage of clean drinking water and improved sanitation. In the education sector, the main focus will be to ensure gender parity at tertiary levels, as Bhutan has already achieved the target for gender parity at primary and secondary school levels. The target set is at least 90 percent from the current 71 percent female to male in tertiary education. In terms of school enrollment rates the target is to achieve close to 100 percent by 2018.\n",
      "[4.5]\n",
      "Population Status of umbrella species (Tiger) maintained –The richness of prey species determines the health of ecosystem. The umbrella species used is tiger population and the target is to maintain 155 numbers. Water has been given special focus in the Eleventh Plan in view of its importance for the basic survival of all living beings and for our hydroelectric projects and agriculture. According to the Bhutan Environment Outlook 2008, Bhutan has the one of the world’s highest per capita availability of water with long-term mean annual flow estimated at 73,000 million m3 per annum and the per capita water availability estimated at 100,000 m3. However, shortage of drinking water is a major problem in many Dzongkhags and towns. The National Environment Commission is conducting the first ever water resource inventory in the country to assess the state of water availability and water sources. The findings from the assessment will be incorporated and the KPIs for water security updated in the course the Plan.\n",
      "[6.4]\n"
     ]
    }
   ],
   "source": [
    "i=0\n",
    "while i < len(input_text):\n",
    "    match_to_target(targets,i)\n",
    "    i=i+1"
   ]
  },
  {
   "cell_type": "code",
   "execution_count": null,
   "metadata": {
    "collapsed": true
   },
   "outputs": [],
   "source": []
  }
 ],
 "metadata": {
  "anaconda-cloud": {},
  "kernelspec": {
   "display_name": "Python [conda root]",
   "language": "python",
   "name": "conda-root-py"
  },
  "language_info": {
   "codemirror_mode": {
    "name": "ipython",
    "version": 3
   },
   "file_extension": ".py",
   "mimetype": "text/x-python",
   "name": "python",
   "nbconvert_exporter": "python",
   "pygments_lexer": "ipython3",
   "version": "3.5.2"
  }
 },
 "nbformat": 4,
 "nbformat_minor": 1
}
