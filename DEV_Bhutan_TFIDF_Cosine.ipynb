{
 "cells": [
  {
   "cell_type": "code",
   "execution_count": 77,
   "metadata": {
    "collapsed": false
   },
   "outputs": [],
   "source": [
    "import nltk, string, numpy, matplotlib, PyPDF2, pandas as pd\n",
    "from sklearn.feature_extraction.text import TfidfVectorizer\n",
    "%matplotlib inline"
   ]
  },
  {
   "cell_type": "code",
   "execution_count": null,
   "metadata": {
    "collapsed": true
   },
   "outputs": [],
   "source": [
    "'''\n",
    "METHOD:  use tfidf cosine sim to build a list of likely relationships.  \n",
    "Slight human curation?  \n",
    "Then use PositiveNaiveBayesClassifier to predict new documents.\n",
    "'''"
   ]
  },
  {
   "cell_type": "code",
   "execution_count": 78,
   "metadata": {
    "collapsed": false
   },
   "outputs": [],
   "source": [
    "vectorizer = TfidfVectorizer(stop_words='english')\n",
    "def cosine_sim(text1, text2):\n",
    "    tfidf = vectorizer.fit_transform([text1, text2])\n",
    "    return ((tfidf * tfidf.T).A)[0,1]\n",
    "\n",
    "def extract_pdf(pdf):\n",
    "    pdf = open(pdf,'rb')\n",
    "    pdfReader = PyPDF2.PdfFileReader(pdf)\n",
    "    text = pdfReader.extractText()"
   ]
  },
  {
   "cell_type": "code",
   "execution_count": 89,
   "metadata": {
    "collapsed": false
   },
   "outputs": [],
   "source": [
    "targets = pd.read_csv('C:\\\\Users\\\\Travis Park\\\\Google Drive\\\\UN\\\\Team MOZART RAP\\\\SDG_Targets.csv', names = ['ID', 'Target'])\n",
    "\n",
    "file = open('C:\\\\Users\\\\Travis Park\\\\Google Drive\\\\UN\\\\Team MOZART RAP\\\\test_text.txt',encoding='utf8').read().replace('\\n',' ')\n",
    "file = file.split('. ')\n",
    "\n",
    "indx = []\n",
    "j=0\n",
    "\n",
    "for i in file:\n",
    "    indx.append(j)\n",
    "    j=j+1\n",
    "\n",
    "df_file = pd.DataFrame(file, columns = ['Sentence'])\n",
    "df_file['Index'] = indx"
   ]
  },
  {
   "cell_type": "code",
   "execution_count": 90,
   "metadata": {
    "collapsed": false
   },
   "outputs": [],
   "source": [
    "t_list = []\n",
    "id_list = []\n",
    "i =0\n",
    "\n",
    "while i < len(targets):\n",
    "    t_list.append(targets['Target'][i])\n",
    "    id_list.append(targets['ID'][i])\n",
    "    i=i+1"
   ]
  },
  {
   "cell_type": "code",
   "execution_count": 91,
   "metadata": {
    "collapsed": false
   },
   "outputs": [
    {
     "data": {
      "text/html": [
       "<div>\n",
       "<table border=\"1\" class=\"dataframe\">\n",
       "  <thead>\n",
       "    <tr style=\"text-align: right;\">\n",
       "      <th></th>\n",
       "      <th>Target</th>\n",
       "      <th>SentenceIndex</th>\n",
       "      <th>CosineSimilarity</th>\n",
       "    </tr>\n",
       "  </thead>\n",
       "  <tbody>\n",
       "    <tr>\n",
       "      <th>0</th>\n",
       "      <td>1.1</td>\n",
       "      <td>0.0</td>\n",
       "      <td>0.229861</td>\n",
       "    </tr>\n",
       "    <tr>\n",
       "      <th>0</th>\n",
       "      <td>1.1</td>\n",
       "      <td>1.0</td>\n",
       "      <td>0.092321</td>\n",
       "    </tr>\n",
       "    <tr>\n",
       "      <th>0</th>\n",
       "      <td>1.1</td>\n",
       "      <td>2.0</td>\n",
       "      <td>0.038952</td>\n",
       "    </tr>\n",
       "    <tr>\n",
       "      <th>0</th>\n",
       "      <td>1.1</td>\n",
       "      <td>3.0</td>\n",
       "      <td>0.212708</td>\n",
       "    </tr>\n",
       "    <tr>\n",
       "      <th>0</th>\n",
       "      <td>1.1</td>\n",
       "      <td>4.0</td>\n",
       "      <td>0.157335</td>\n",
       "    </tr>\n",
       "  </tbody>\n",
       "</table>\n",
       "</div>"
      ],
      "text/plain": [
       "   Target  SentenceIndex  CosineSimilarity\n",
       "0     1.1            0.0          0.229861\n",
       "0     1.1            1.0          0.092321\n",
       "0     1.1            2.0          0.038952\n",
       "0     1.1            3.0          0.212708\n",
       "0     1.1            4.0          0.157335"
      ]
     },
     "execution_count": 91,
     "metadata": {},
     "output_type": "execute_result"
    }
   ],
   "source": [
    "i=0\n",
    "\n",
    "df_tfidf = pd.DataFrame(columns = ['Target','SentenceIndex','CosineSimilarity'])\n",
    "\n",
    "while i < len(targets):\n",
    "    j=0\n",
    "    while j < len(df_file):\n",
    "        a=targets['ID'][i]\n",
    "        b=df_file['Index'][j]\n",
    "        c=targets['Target'][i]\n",
    "        d=df_file['Sentence'][j]\n",
    "        \n",
    "        df2 = pd.DataFrame([[a,b,cosine_sim(c,d)]], columns = ['Target','SentenceIndex','CosineSimilarity'])\n",
    "        df_tfidf=pd.concat([df_tfidf,df2])\n",
    "        \n",
    "        j=j+1\n",
    "    i=i+1\n",
    "\n",
    "    \n",
    "df_tfidf.head()"
   ]
  },
  {
   "cell_type": "code",
   "execution_count": 92,
   "metadata": {
    "collapsed": false
   },
   "outputs": [],
   "source": [
    "df_tfidf.to_csv(path_or_buf = 'C:\\\\Users\\\\Travis Park\\\\Google Drive\\\\UN\\\\Team MOZART RAP\\\\tfidfExport.csv')"
   ]
  },
  {
   "cell_type": "code",
   "execution_count": 84,
   "metadata": {
    "collapsed": false
   },
   "outputs": [
    {
     "data": {
      "text/html": [
       "<div>\n",
       "<table border=\"1\" class=\"dataframe\">\n",
       "  <thead>\n",
       "    <tr style=\"text-align: right;\">\n",
       "      <th></th>\n",
       "      <th>Sentence</th>\n",
       "      <th>Index</th>\n",
       "    </tr>\n",
       "  </thead>\n",
       "  <tbody>\n",
       "    <tr>\n",
       "      <th>0</th>\n",
       "      <td>Last week's record-setting Powerball lottery p...</td>\n",
       "      <td>0</td>\n",
       "    </tr>\n",
       "    <tr>\n",
       "      <th>1</th>\n",
       "      <td>Apparently, ending extreme poverty in one of ...</td>\n",
       "      <td>1</td>\n",
       "    </tr>\n",
       "    <tr>\n",
       "      <th>2</th>\n",
       "      <td>The report suggests that the generosity of ju...</td>\n",
       "      <td>2</td>\n",
       "    </tr>\n",
       "    <tr>\n",
       "      <th>3</th>\n",
       "      <td>More than 40 percent of Swaziland's 1.3 millio...</td>\n",
       "      <td>3</td>\n",
       "    </tr>\n",
       "    <tr>\n",
       "      <th>4</th>\n",
       "      <td>The Brookings researchers calculated the net ...</td>\n",
       "      <td>4</td>\n",
       "    </tr>\n",
       "  </tbody>\n",
       "</table>\n",
       "</div>"
      ],
      "text/plain": [
       "                                            Sentence  Index\n",
       "0  Last week's record-setting Powerball lottery p...      0\n",
       "1   Apparently, ending extreme poverty in one of ...      1\n",
       "2   The report suggests that the generosity of ju...      2\n",
       "3  More than 40 percent of Swaziland's 1.3 millio...      3\n",
       "4   The Brookings researchers calculated the net ...      4"
      ]
     },
     "execution_count": 84,
     "metadata": {},
     "output_type": "execute_result"
    }
   ],
   "source": [
    "df_file.head()"
   ]
  },
  {
   "cell_type": "code",
   "execution_count": 88,
   "metadata": {
    "collapsed": false
   },
   "outputs": [
    {
     "data": {
      "text/plain": [
       "' \"The theoretical cost of transfers required to lift all poor people\\'s income up to the global poverty line of $1.90 a day stood at approximately $80 billion in 2015, down from over $300 billion in 1980,\" the report said, also noting that the mean daily income of the world\\'s most impoverished individuals rose from $1.09 in 1980 to $1.34 in 2012.'"
      ]
     },
     "execution_count": 88,
     "metadata": {},
     "output_type": "execute_result"
    }
   ],
   "source": [
    "df_file['Sentence'][16]"
   ]
  },
  {
   "cell_type": "code",
   "execution_count": null,
   "metadata": {
    "collapsed": true
   },
   "outputs": [],
   "source": []
  }
 ],
 "metadata": {
  "anaconda-cloud": {},
  "kernelspec": {
   "display_name": "Python [conda root]",
   "language": "python",
   "name": "conda-root-py"
  },
  "language_info": {
   "codemirror_mode": {
    "name": "ipython",
    "version": 3
   },
   "file_extension": ".py",
   "mimetype": "text/x-python",
   "name": "python",
   "nbconvert_exporter": "python",
   "pygments_lexer": "ipython3",
   "version": "3.5.2"
  }
 },
 "nbformat": 4,
 "nbformat_minor": 1
}
