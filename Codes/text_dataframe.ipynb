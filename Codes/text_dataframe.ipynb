{
 "cells": [
  {
   "cell_type": "code",
   "execution_count": 115,
   "metadata": {},
   "outputs": [],
   "source": [
    "import re\n",
    "\n",
    "with open('/Users/Maxwell/PycharmProjects/Github/Rapid_Assessment_Tools/SharedFiles/Fordham/RIA Bhutan/Docs Reviewed/Eleventh-Five-Year-Plan_Vol-1.txt') as f:\n",
    "    txt = f.read()\n",
    "\n",
    "txt = re.sub(r'[^\\x00-\\x7F]+|\\x0c', '', txt)\n",
    "rule = re.compile(r'(\\.)\\n\\s*([A-Z])')\n",
    "txt = re.sub(rule, r'\\1\\n\\n\\n\\2', txt)"
   ]
  },
  {
   "cell_type": "code",
   "execution_count": 123,
   "metadata": {},
   "outputs": [],
   "source": [
    "import pandas as pd\n",
    "from nltk import tokenize\n",
    "\n",
    "rawText = txt.split(sep='\\n\\n\\n')\n",
    "finalText = []\n",
    "\n",
    "for p in rawText:\n",
    "    s = tokenize.sent_tokenize(p)\n",
    "    s = '\\n'.join(s)\n",
    "    token = tokenize.word_tokenize(s)\n",
    "    finalText.append(' '.join(token))"
   ]
  },
  {
   "cell_type": "code",
   "execution_count": 124,
   "metadata": {},
   "outputs": [],
   "source": [
    "SDG = pd.read_excel('/Users/Maxwell/PycharmProjects/Github/Rapid_Assessment_Tools/SDG goals-v.2.xlsx').dropna()\n",
    "df = SDG.loc[:,'SDG sub Goal content'].tolist()\n",
    "df.extend(finalText)"
   ]
  },
  {
   "cell_type": "code",
   "execution_count": 127,
   "metadata": {},
   "outputs": [],
   "source": [
    "from sklearn.feature_extraction.text import TfidfVectorizer\n",
    "\n",
    "vectorizer = TfidfVectorizer(ngram_range=(1,1))"
   ]
  },
  {
   "cell_type": "code",
   "execution_count": 128,
   "metadata": {},
   "outputs": [],
   "source": [
    "tfidf = vectorizer.fit_transform(df)        \n",
    "pairwise_similarity = tfidf * tfidf.T"
   ]
  },
  {
   "cell_type": "code",
   "execution_count": 130,
   "metadata": {},
   "outputs": [],
   "source": [
    "output = pd.DataFrame(pairwise_similarity.A[159:, :158])\n",
    "output.to_csv('output.csv')"
   ]
  },
  {
   "cell_type": "code",
   "execution_count": null,
   "metadata": {},
   "outputs": [],
   "source": [
    ""
   ]
  }
 ],
 "metadata": {
  "kernelspec": {
   "display_name": "Python 2",
   "language": "python",
   "name": "python2"
  },
  "language_info": {
   "codemirror_mode": {
    "name": "ipython",
    "version": 2.0
   },
   "file_extension": ".py",
   "mimetype": "text/x-python",
   "name": "python",
   "nbconvert_exporter": "python",
   "pygments_lexer": "ipython2",
   "version": "2.7.6"
  }
 },
 "nbformat": 4,
 "nbformat_minor": 0
}