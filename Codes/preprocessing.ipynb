{
 "cells": [
  {
   "cell_type": "code",
   "execution_count": 123,
   "metadata": {
    "collapsed": true
   },
   "outputs": [],
   "source": [
    "import nltk\n",
    "tokenizer = nltk.data.load('tokenizers/punkt/english.pickle')\n",
    "\n",
    "with open('/Users/maxwelllee54/GitHubs/Rapid_Assessment_Tools/SharedFiles/Fordham/RIA Bhutan/Docs Reviewed/Eleventh-Five-Year-Plan_Vol-1.txt') as f:\n",
    "    data = f.read()\n",
    "    text_list = tokenizer.tokenize(data)"
   ]
  },
  {
   "cell_type": "code",
   "execution_count": 124,
   "metadata": {},
   "outputs": [],
   "source": [
    "sentences = []\n",
    "for text in text_list:\n",
    "    token = nltk.word_tokenize(text)\n",
    "    sentence = ' '.join(token)\n",
    "    sentences.append(sentence)"
   ]
  },
  {
   "cell_type": "code",
   "execution_count": 125,
   "metadata": {},
   "outputs": [],
   "source": [
    "import pandas as pd\n",
    "\n",
    "SDG = pd.read_excel('/Users/maxwelllee54/GitHubs/Rapid_Assessment_Tools/SDG goals-v.2.xlsx').dropna()"
   ]
  },
  {
   "cell_type": "code",
   "execution_count": 126,
   "metadata": {},
   "outputs": [
    {
     "data": {
      "text/html": [
       "<div>\n",
       "<table border=\"1\" class=\"dataframe\">\n",
       "  <thead>\n",
       "    <tr style=\"text-align: right;\">\n",
       "      <th></th>\n",
       "      <th>SDG Goal</th>\n",
       "      <th>Goal name</th>\n",
       "      <th>Goal Content</th>\n",
       "      <th>SDG sub Goal</th>\n",
       "      <th>SDG sub Goal content</th>\n",
       "    </tr>\n",
       "  </thead>\n",
       "  <tbody>\n",
       "    <tr>\n",
       "      <th>0</th>\n",
       "      <td>1</td>\n",
       "      <td>Poverty</td>\n",
       "      <td>Goal 1. End poverty in all its forms everywhere</td>\n",
       "      <td>1.1</td>\n",
       "      <td>1.1 By 2030, eradicate extreme poverty for all...</td>\n",
       "    </tr>\n",
       "    <tr>\n",
       "      <th>1</th>\n",
       "      <td>1</td>\n",
       "      <td>Poverty</td>\n",
       "      <td>Goal 1. End poverty in all its forms everywhere</td>\n",
       "      <td>1.2</td>\n",
       "      <td>1.2 By 2030, reduce at least by half the propo...</td>\n",
       "    </tr>\n",
       "    <tr>\n",
       "      <th>2</th>\n",
       "      <td>1</td>\n",
       "      <td>Poverty</td>\n",
       "      <td>Goal 1. End poverty in all its forms everywhere</td>\n",
       "      <td>1.3</td>\n",
       "      <td>1.3 Implement nationally appropriate social pr...</td>\n",
       "    </tr>\n",
       "    <tr>\n",
       "      <th>3</th>\n",
       "      <td>1</td>\n",
       "      <td>Poverty</td>\n",
       "      <td>Goal 1. End poverty in all its forms everywhere</td>\n",
       "      <td>1.4</td>\n",
       "      <td>1.4 By 2030, ensure that all men and women, in...</td>\n",
       "    </tr>\n",
       "    <tr>\n",
       "      <th>4</th>\n",
       "      <td>1</td>\n",
       "      <td>Poverty</td>\n",
       "      <td>Goal 1. End poverty in all its forms everywhere</td>\n",
       "      <td>1.5</td>\n",
       "      <td>1.5 By 2030, build the resilience of the poor ...</td>\n",
       "    </tr>\n",
       "  </tbody>\n",
       "</table>\n",
       "</div>"
      ],
      "text/plain": [
       "<div>\n",
       "<table border=\"1\" class=\"dataframe\">\n",
       "  <thead>\n",
       "    <tr style=\"text-align: right;\">\n",
       "      <th></th>\n",
       "      <th>SDG Goal</th>\n",
       "      <th>Goal name</th>\n",
       "      <th>Goal Content</th>\n",
       "      <th>SDG sub Goal</th>\n",
       "      <th>SDG sub Goal content</th>\n",
       "    </tr>\n",
       "  </thead>\n",
       "  <tbody>\n",
       "    <tr>\n",
       "      <th>0</th>\n",
       "      <td>1</td>\n",
       "      <td>Poverty</td>\n",
       "      <td>Goal 1. End poverty in all its forms everywhere</td>\n",
       "      <td>1.1</td>\n",
       "      <td>1.1 By 2030, eradicate extreme poverty for all...</td>\n",
       "    </tr>\n",
       "    <tr>\n",
       "      <th>1</th>\n",
       "      <td>1</td>\n",
       "      <td>Poverty</td>\n",
       "      <td>Goal 1. End poverty in all its forms everywhere</td>\n",
       "      <td>1.2</td>\n",
       "      <td>1.2 By 2030, reduce at least by half the propo...</td>\n",
       "    </tr>\n",
       "    <tr>\n",
       "      <th>2</th>\n",
       "      <td>1</td>\n",
       "      <td>Poverty</td>\n",
       "      <td>Goal 1. End poverty in all its forms everywhere</td>\n",
       "      <td>1.3</td>\n",
       "      <td>1.3 Implement nationally appropriate social pr...</td>\n",
       "    </tr>\n",
       "    <tr>\n",
       "      <th>3</th>\n",
       "      <td>1</td>\n",
       "      <td>Poverty</td>\n",
       "      <td>Goal 1. End poverty in all its forms everywhere</td>\n",
       "      <td>1.4</td>\n",
       "      <td>1.4 By 2030, ensure that all men and women, in...</td>\n",
       "    </tr>\n",
       "    <tr>\n",
       "      <th>4</th>\n",
       "      <td>1</td>\n",
       "      <td>Poverty</td>\n",
       "      <td>Goal 1. End poverty in all its forms everywhere</td>\n",
       "      <td>1.5</td>\n",
       "      <td>1.5 By 2030, build the resilience of the poor ...</td>\n",
       "    </tr>\n",
       "  </tbody>\n",
       "</table>\n",
       "</div>"
      ]
     },
     "execution_count": 126,
     "metadata": {},
     "output_type": "execute_result"
    }
   ],
   "source": [
    "SDG.head()"
   ]
  },
  {
   "cell_type": "code",
   "execution_count": 127,
   "metadata": {},
   "outputs": [],
   "source": [
    "X = SDG.loc[:,'SDG sub Goal content']\n",
    "y = SDG.loc[:,'SDG Goal']"
   ]
  },
  {
   "cell_type": "code",
   "execution_count": 128,
   "metadata": {},
   "outputs": [],
   "source": [
    "from sklearn.feature_extraction.text import CountVectorizer\n",
    "\n",
    "vect = CountVectorizer(ngram_range=(1,2))"
   ]
  },
  {
   "cell_type": "code",
   "execution_count": 129,
   "metadata": {},
   "outputs": [],
   "source": [
    "vect.fit(X)\n",
    "X_train_dtm = vect.transform(X)"
   ]
  },
  {
   "cell_type": "code",
   "execution_count": 130,
   "metadata": {},
   "outputs": [
    {
     "data": {
      "text/plain": [
       "<159x3800 sparse matrix of type '<class 'numpy.int64'>'\n\twith 7910 stored elements in Compressed Sparse Row format>"
      ]
     },
     "execution_count": 130,
     "metadata": {},
     "output_type": "execute_result"
    }
   ],
   "source": [
    "X_train_dtm"
   ]
  },
  {
   "cell_type": "code",
   "execution_count": 131,
   "metadata": {},
   "outputs": [],
   "source": [
    "X_test = ['Strategic Human Settlements developed for regionally balanced development and improved quality of life and socioeconomic status of both urban and rural residents']"
   ]
  },
  {
   "cell_type": "code",
   "execution_count": 132,
   "metadata": {},
   "outputs": [
    {
     "data": {
      "text/plain": [
       "<1x3800 sparse matrix of type '<class 'numpy.int64'>'\n\twith 18 stored elements in Compressed Sparse Row format>"
      ]
     },
     "execution_count": 132,
     "metadata": {},
     "output_type": "execute_result"
    }
   ],
   "source": [
    "X_test_dtm = vect.transform(X_test)\n",
    "X_test_dtm"
   ]
  },
  {
   "cell_type": "code",
   "execution_count": 133,
   "metadata": {},
   "outputs": [],
   "source": [
    "from sklearn.naive_bayes import MultinomialNB\n",
    "nb = MultinomialNB()"
   ]
  },
  {
   "cell_type": "code",
   "execution_count": 134,
   "metadata": {},
   "outputs": [
    {
     "data": {
      "text/plain": [
       "MultinomialNB(alpha=1.0, class_prior=None, fit_prior=True)"
      ]
     },
     "execution_count": 134,
     "metadata": {},
     "output_type": "execute_result"
    }
   ],
   "source": [
    "nb.fit(X_train_dtm, y)"
   ]
  },
  {
   "cell_type": "code",
   "execution_count": 135,
   "metadata": {},
   "outputs": [
    {
     "data": {
      "text/plain": [
       "array([17])"
      ]
     },
     "execution_count": 135,
     "metadata": {},
     "output_type": "execute_result"
    }
   ],
   "source": [
    "y_pred_class = nb.predict(X_test_dtm)\n",
    "y_pred_class"
   ]
  },
  {
   "cell_type": "code",
   "execution_count": 136,
   "metadata": {},
   "outputs": [
    {
     "data": {
      "text/plain": [
       "array([4])"
      ]
     },
     "execution_count": 136,
     "metadata": {},
     "output_type": "execute_result"
    }
   ],
   "source": [
    "from sklearn.multiclass import OneVsOneClassifier, OneVsRestClassifier\n",
    "from sklearn.svm import LinearSVC\n",
    "\n",
    "OneVsRestClassifier(LinearSVC(random_state=0)).fit(X_train_dtm, y).predict(X_test_dtm)"
   ]
  },
  {
   "cell_type": "code",
   "execution_count": 137,
   "metadata": {},
   "outputs": [
    {
     "data": {
      "text/plain": [
       "array([8])"
      ]
     },
     "execution_count": 137,
     "metadata": {},
     "output_type": "execute_result"
    }
   ],
   "source": [
    "OneVsOneClassifier(LinearSVC(random_state=0)).fit(X_train_dtm, y).predict(X_test_dtm)"
   ]
  },
  {
   "cell_type": "markdown",
   "metadata": {},
   "source": [
    "Wrong Prediction. Sad"
   ]
  },
  {
   "cell_type": "code",
   "execution_count": 138,
   "metadata": {},
   "outputs": [],
   "source": [
    "from sklearn.feature_extraction.text import TfidfVectorizer\n",
    "\n",
    "vectorizer = TfidfVectorizer(ngram_range=(1,3))"
   ]
  },
  {
   "cell_type": "code",
   "execution_count": 168,
   "metadata": {},
   "outputs": [],
   "source": [
    "df = X \n",
    "#df.loc['test'] = sentences[500]\n",
    "df.loc['test'] = '''\n",
    "Generate additional employment opportunities and increase mean annual rural household cash income\n",
    "'''"
   ]
  },
  {
   "cell_type": "code",
   "execution_count": 169,
   "metadata": {},
   "outputs": [],
   "source": [
    "tfidf = vectorizer.fit_transform(df)        \n",
    "pairwise_similarity = tfidf * tfidf.T"
   ]
  },
  {
   "cell_type": "code",
   "execution_count": 170,
   "metadata": {},
   "outputs": [
    {
     "data": {
      "text/plain": [
       "array([ 0.        ,  0.00096032,  0.00319892,  0.00367119,  0.00529679,\n        0.0016061 ,  0.00186085,  0.00274588,  0.00309695,  0.02489899,\n        0.01006121,  0.00607656,  0.02541271,  0.0022802 ,  0.00160929,\n        0.        ,  0.00118773,  0.00285221,  0.00309263,  0.00231906,\n        0.00136054,  0.00366681,  0.00271868,  0.0045788 ,  0.        ,\n        0.00302703,  0.01197521,  0.00223247,  0.00411016,  0.00181251,\n        0.0034974 ,  0.02469952,  0.00261932,  0.00355405,  0.00323484,\n        0.00399583,  0.00362279,  0.01039315,  0.00165616,  0.00413268,\n        0.00244969,  0.02155762,  0.02107754,  0.0037299 ,  0.00252316,\n        0.00126622,  0.0041598 ,  0.0028794 ,  0.00460403,  0.00339704,\n        0.0100489 ,  0.        ,  0.0024608 ,  0.00352729,  0.00280227,\n        0.00162103,  0.01216544,  0.        ,  0.00369228,  0.0024967 ,\n        0.00094562,  0.0020044 ,  0.00330869,  0.00230016,  0.0158546 ,\n        0.01799287,  0.0040394 ,  0.01541724,  0.00358059,  0.00225236,\n        0.00871505,  0.01626907,  0.0037255 ,  0.01539851,  0.01145382,\n        0.00311359,  0.00372751,  0.00286576,  0.0019515 ,  0.01290753,\n        0.01936381,  0.00180074,  0.00369147,  0.00250921,  0.00347823,\n        0.00270218,  0.00299841,  0.00111626,  0.00235574,  0.00089264,\n        0.00366043,  0.00152333,  0.00430662,  0.00277211,  0.00218475,\n        0.00199268,  0.00398151,  0.0216935 ,  0.00970025,  0.00231594,\n        0.00172697,  0.0015263 ,  0.00268487,  0.00290159,  0.00145787,\n        0.00202746,  0.00135417,  0.00223082,  0.00219199,  0.0032123 ,\n        0.00227941,  0.00256227,  0.0015278 ,  0.00323761,  0.00119805,\n        0.00358327,  0.0034318 ,  0.01063384,  0.00274476,  0.        ,\n        0.00272943,  0.00197475,  0.0037789 ,  0.00266909,  0.00330368,\n        0.01430062,  0.00264591,  0.01728693,  0.00150507,  0.00263929,\n        0.00239906,  0.002987  ,  0.00164469,  0.00165553,  0.0014571 ,\n        0.00141688,  0.        ,  0.00240198,  0.00198765,  0.00303486,\n        0.00108903,  0.00046145,  0.03302435,  0.00131529,  0.00164046,\n        0.00405314,  0.00185191,  0.00348349,  0.00167233,  0.00086764,\n        0.00934726,  0.00193681,  0.00134447,  0.        ,  0.00330218,\n        0.00160359,  0.00299857,  0.02117413,  0.00092634])"
      ]
     },
     "execution_count": 170,
     "metadata": {},
     "output_type": "execute_result"
    }
   ],
   "source": [
    "pairwise_similarity.A[-1, :-1]"
   ]
  },
  {
   "cell_type": "code",
   "execution_count": 159,
   "metadata": {},
   "outputs": [],
   "source": [
    ""
   ]
  },
  {
   "cell_type": "code",
   "execution_count": null,
   "metadata": {},
   "outputs": [],
   "source": [
    ""
   ]
  }
 ],
 "metadata": {
  "kernelspec": {
   "display_name": "Python 2",
   "language": "python",
   "name": "python2"
  },
  "language_info": {
   "codemirror_mode": {
    "name": "ipython",
    "version": 2.0
   },
   "file_extension": ".py",
   "mimetype": "text/x-python",
   "name": "python",
   "nbconvert_exporter": "python",
   "pygments_lexer": "ipython2",
   "version": "2.7.6"
  }
 },
 "nbformat": 4,
 "nbformat_minor": 0
}