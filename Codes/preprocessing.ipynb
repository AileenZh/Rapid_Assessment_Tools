{
 "cells": [
  {
   "cell_type": "code",
   "execution_count": 1,
   "metadata": {
    "collapsed": true
   },
   "outputs": [],
   "source": [
    "import nltk\n",
    "tokenizer = nltk.data.load('tokenizers/punkt/english.pickle')\n",
    "\n",
    "with open('/Users/maxwelllee54/GitHubs/Rapid_Assessment_Tools/SharedFiles/Fordham/RIA Bhutan/Docs Reviewed/Eleventh-Five-Year-Plan_Vol-1.txt') as f:\n",
    "    data = f.read()\n",
    "    text_list = tokenizer.tokenize(data)"
   ]
  },
  {
   "cell_type": "code",
   "execution_count": 2,
   "metadata": {},
   "outputs": [],
   "source": [
    "import pandas as pd\n",
    "\n",
    "SDG = pd.read_excel('/Users/maxwelllee54/GitHubs/Rapid_Assessment_Tools/SDG goals-v.2.xlsx').dropna()"
   ]
  },
  {
   "cell_type": "code",
   "execution_count": 4,
   "metadata": {},
   "outputs": [
    {
     "data": {
      "text/html": [
       "<div>\n",
       "<table border=\"1\" class=\"dataframe\">\n",
       "  <thead>\n",
       "    <tr style=\"text-align: right;\">\n",
       "      <th></th>\n",
       "      <th>SDG Goal</th>\n",
       "      <th>Goal name</th>\n",
       "      <th>Goal Content</th>\n",
       "      <th>SDG sub Goal</th>\n",
       "      <th>SDG sub Goal content</th>\n",
       "    </tr>\n",
       "  </thead>\n",
       "  <tbody>\n",
       "    <tr>\n",
       "      <th>0</th>\n",
       "      <td>1</td>\n",
       "      <td>Poverty</td>\n",
       "      <td>Goal 1. End poverty in all its forms everywhere</td>\n",
       "      <td>1.1</td>\n",
       "      <td>1.1 By 2030, eradicate extreme poverty for all...</td>\n",
       "    </tr>\n",
       "    <tr>\n",
       "      <th>1</th>\n",
       "      <td>1</td>\n",
       "      <td>Poverty</td>\n",
       "      <td>Goal 1. End poverty in all its forms everywhere</td>\n",
       "      <td>1.2</td>\n",
       "      <td>1.2 By 2030, reduce at least by half the propo...</td>\n",
       "    </tr>\n",
       "    <tr>\n",
       "      <th>2</th>\n",
       "      <td>1</td>\n",
       "      <td>Poverty</td>\n",
       "      <td>Goal 1. End poverty in all its forms everywhere</td>\n",
       "      <td>1.3</td>\n",
       "      <td>1.3 Implement nationally appropriate social pr...</td>\n",
       "    </tr>\n",
       "    <tr>\n",
       "      <th>3</th>\n",
       "      <td>1</td>\n",
       "      <td>Poverty</td>\n",
       "      <td>Goal 1. End poverty in all its forms everywhere</td>\n",
       "      <td>1.4</td>\n",
       "      <td>1.4 By 2030, ensure that all men and women, in...</td>\n",
       "    </tr>\n",
       "    <tr>\n",
       "      <th>4</th>\n",
       "      <td>1</td>\n",
       "      <td>Poverty</td>\n",
       "      <td>Goal 1. End poverty in all its forms everywhere</td>\n",
       "      <td>1.5</td>\n",
       "      <td>1.5 By 2030, build the resilience of the poor ...</td>\n",
       "    </tr>\n",
       "  </tbody>\n",
       "</table>\n",
       "</div>"
      ],
      "text/plain": [
       "<div>\n",
       "<table border=\"1\" class=\"dataframe\">\n",
       "  <thead>\n",
       "    <tr style=\"text-align: right;\">\n",
       "      <th></th>\n",
       "      <th>SDG Goal</th>\n",
       "      <th>Goal name</th>\n",
       "      <th>Goal Content</th>\n",
       "      <th>SDG sub Goal</th>\n",
       "      <th>SDG sub Goal content</th>\n",
       "    </tr>\n",
       "  </thead>\n",
       "  <tbody>\n",
       "    <tr>\n",
       "      <th>0</th>\n",
       "      <td>1</td>\n",
       "      <td>Poverty</td>\n",
       "      <td>Goal 1. End poverty in all its forms everywhere</td>\n",
       "      <td>1.1</td>\n",
       "      <td>1.1 By 2030, eradicate extreme poverty for all...</td>\n",
       "    </tr>\n",
       "    <tr>\n",
       "      <th>1</th>\n",
       "      <td>1</td>\n",
       "      <td>Poverty</td>\n",
       "      <td>Goal 1. End poverty in all its forms everywhere</td>\n",
       "      <td>1.2</td>\n",
       "      <td>1.2 By 2030, reduce at least by half the propo...</td>\n",
       "    </tr>\n",
       "    <tr>\n",
       "      <th>2</th>\n",
       "      <td>1</td>\n",
       "      <td>Poverty</td>\n",
       "      <td>Goal 1. End poverty in all its forms everywhere</td>\n",
       "      <td>1.3</td>\n",
       "      <td>1.3 Implement nationally appropriate social pr...</td>\n",
       "    </tr>\n",
       "    <tr>\n",
       "      <th>3</th>\n",
       "      <td>1</td>\n",
       "      <td>Poverty</td>\n",
       "      <td>Goal 1. End poverty in all its forms everywhere</td>\n",
       "      <td>1.4</td>\n",
       "      <td>1.4 By 2030, ensure that all men and women, in...</td>\n",
       "    </tr>\n",
       "    <tr>\n",
       "      <th>4</th>\n",
       "      <td>1</td>\n",
       "      <td>Poverty</td>\n",
       "      <td>Goal 1. End poverty in all its forms everywhere</td>\n",
       "      <td>1.5</td>\n",
       "      <td>1.5 By 2030, build the resilience of the poor ...</td>\n",
       "    </tr>\n",
       "  </tbody>\n",
       "</table>\n",
       "</div>"
      ]
     },
     "execution_count": 4,
     "metadata": {},
     "output_type": "execute_result"
    }
   ],
   "source": [
    "SDG.head()"
   ]
  },
  {
   "cell_type": "code",
   "execution_count": 19,
   "metadata": {},
   "outputs": [],
   "source": [
    "X = SDG.loc[:,'SDG sub Goal content']\n",
    "y = SDG.loc[:,'SDG Goal']"
   ]
  },
  {
   "cell_type": "code",
   "execution_count": 20,
   "metadata": {},
   "outputs": [],
   "source": [
    "from sklearn.feature_extraction.text import CountVectorizer\n",
    "\n",
    "vect = CountVectorizer(ngram_range=(1,2))"
   ]
  },
  {
   "cell_type": "code",
   "execution_count": 21,
   "metadata": {},
   "outputs": [],
   "source": [
    "vect.fit(X)\n",
    "X_train_dtm = vect.transform(X)"
   ]
  },
  {
   "cell_type": "code",
   "execution_count": 22,
   "metadata": {},
   "outputs": [
    {
     "data": {
      "text/plain": [
       "<159x3800 sparse matrix of type '<class 'numpy.int64'>'\n\twith 7910 stored elements in Compressed Sparse Row format>"
      ]
     },
     "execution_count": 22,
     "metadata": {},
     "output_type": "execute_result"
    }
   ],
   "source": [
    "X_train_dtm"
   ]
  },
  {
   "cell_type": "code",
   "execution_count": 23,
   "metadata": {},
   "outputs": [],
   "source": [
    "X_test = ['Strategic Human Settlements developed for regionally balanced development and improved quality of life and socioeconomic status of both urban and rural residents']"
   ]
  },
  {
   "cell_type": "code",
   "execution_count": 24,
   "metadata": {},
   "outputs": [
    {
     "data": {
      "text/plain": [
       "<1x3800 sparse matrix of type '<class 'numpy.int64'>'\n\twith 18 stored elements in Compressed Sparse Row format>"
      ]
     },
     "execution_count": 24,
     "metadata": {},
     "output_type": "execute_result"
    }
   ],
   "source": [
    "X_test_dtm = vect.transform(X_test)\n",
    "X_test_dtm"
   ]
  },
  {
   "cell_type": "code",
   "execution_count": 25,
   "metadata": {},
   "outputs": [],
   "source": [
    "from sklearn.naive_bayes import MultinomialNB\n",
    "nb = MultinomialNB()"
   ]
  },
  {
   "cell_type": "code",
   "execution_count": 26,
   "metadata": {},
   "outputs": [
    {
     "data": {
      "text/plain": [
       "MultinomialNB(alpha=1.0, class_prior=None, fit_prior=True)"
      ]
     },
     "execution_count": 26,
     "metadata": {},
     "output_type": "execute_result"
    }
   ],
   "source": [
    "nb.fit(X_train_dtm, y)"
   ]
  },
  {
   "cell_type": "code",
   "execution_count": 28,
   "metadata": {},
   "outputs": [
    {
     "data": {
      "text/plain": [
       "array([17])"
      ]
     },
     "execution_count": 28,
     "metadata": {},
     "output_type": "execute_result"
    }
   ],
   "source": [
    "y_pred_class = nb.predict(X_test_dtm)\n",
    "y_pred_class"
   ]
  },
  {
   "cell_type": "code",
   "execution_count": 29,
   "metadata": {},
   "outputs": [
    {
     "data": {
      "text/plain": [
       "array([4])"
      ]
     },
     "execution_count": 29,
     "metadata": {},
     "output_type": "execute_result"
    }
   ],
   "source": [
    "from sklearn.multiclass import OneVsOneClassifier, OneVsRestClassifier\n",
    "from sklearn.svm import LinearSVC\n",
    "\n",
    "OneVsRestClassifier(LinearSVC(random_state=0)).fit(X_train_dtm, y).predict(X_test_dtm)"
   ]
  },
  {
   "cell_type": "code",
   "execution_count": 30,
   "metadata": {},
   "outputs": [
    {
     "data": {
      "text/plain": [
       "array([8])"
      ]
     },
     "execution_count": 30,
     "metadata": {},
     "output_type": "execute_result"
    }
   ],
   "source": [
    "OneVsOneClassifier(LinearSVC(random_state=0)).fit(X_train_dtm, y).predict(X_test_dtm)"
   ]
  },
  {
   "cell_type": "markdown",
   "metadata": {},
   "source": [
    "Wrong Prediction. Sad"
   ]
  }
 ],
 "metadata": {
  "kernelspec": {
   "display_name": "Python 2",
   "language": "python",
   "name": "python2"
  },
  "language_info": {
   "codemirror_mode": {
    "name": "ipython",
    "version": 2.0
   },
   "file_extension": ".py",
   "mimetype": "text/x-python",
   "name": "python",
   "nbconvert_exporter": "python",
   "pygments_lexer": "ipython2",
   "version": "2.7.6"
  }
 },
 "nbformat": 4,
 "nbformat_minor": 0
}