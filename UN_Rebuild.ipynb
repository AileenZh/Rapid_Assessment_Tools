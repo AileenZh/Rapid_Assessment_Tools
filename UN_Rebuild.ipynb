{
 "cells": [
  {
   "cell_type": "code",
   "execution_count": 342,
   "metadata": {
    "collapsed": false,
    "scrolled": true
   },
   "outputs": [],
   "source": [
    "import nltk\n",
    "from nltk.corpus import stopwords\n",
    "from nltk import FreqDist\n",
    "import pandas as pd\n",
    "import numpy as np\n",
    "from sklearn.feature_extraction.text import TfidfVectorizer\n",
    "from sklearn.metrics.pairwise import cosine_similarity\n",
    "import seaborn as sns\n",
    "import matplotlib.pyplot as plt\n",
    "\n",
    "porter = nltk.PorterStemmer()\n",
    "\n",
    "%matplotlib inline\n",
    "stop = stopwords.words('english')\n",
    "dir = 'C:\\\\Users\\\\Travis Park\\\\Google Drive\\\\UN\\\\Team MOZART RAP\\\\'"
   ]
  },
  {
   "cell_type": "code",
   "execution_count": 608,
   "metadata": {
    "collapsed": false
   },
   "outputs": [],
   "source": [
    "tfidfvectorizer =TfidfVectorizer(ngram_range = (1,2),sublinear_tf=False, \n",
    "                                 min_df = 0.01, max_features = 1100) \n",
    "def TFIDFtotable(inputlist1, inputlist2, newcollist):\n",
    "    corpus = inputlist1 + inputlist2\n",
    "    \n",
    "    x = tfidfvectorizer.fit_transform(corpus)\n",
    "    x = pd.DataFrame((x * x.T).A)\n",
    "    \n",
    "    x = x.ix[:len(inputlist1)-1,:len(inputlist2)-1]\n",
    "    x.columns = newcollist\n",
    "    x['Text'] = trimtext\n",
    "    x = pd.merge(x, Paragraph_DF, how = 'left', left_on = 'Text', right_on = 'StemText')\n",
    "    x=x.drop(['Text_x','Text_y','TrimText','StemText'],1)\n",
    "    x=pd.melt(x, id_vars=['Number'])\n",
    "    x.rename(columns={'Number':'Paragraph','variable': 'Target','value':'T_Cosine'}, inplace = True)\n",
    "    TFIDFTable = x    \n",
    "   \n",
    "\n",
    "    return TFIDFTable"
   ]
  },
  {
   "cell_type": "markdown",
   "metadata": {},
   "source": [
    "Feature Selection (look into domain lexicon (only use words from classes, dont need others)"
   ]
  },
  {
   "cell_type": "code",
   "execution_count": 464,
   "metadata": {
    "collapsed": false,
    "scrolled": true
   },
   "outputs": [
    {
     "data": {
      "text/html": [
       "<div>\n",
       "<table border=\"1\" class=\"dataframe\">\n",
       "  <thead>\n",
       "    <tr style=\"text-align: right;\">\n",
       "      <th></th>\n",
       "      <th>ID</th>\n",
       "      <th>Goal</th>\n",
       "      <th>OrigionalText</th>\n",
       "      <th>GoalText</th>\n",
       "      <th>TrimGoal</th>\n",
       "    </tr>\n",
       "  </thead>\n",
       "  <tbody>\n",
       "    <tr>\n",
       "      <th>0</th>\n",
       "      <td>1</td>\n",
       "      <td>Poverty</td>\n",
       "      <td>Poverty End poverty in all its forms everywhere</td>\n",
       "      <td>poverty forms eveywhere</td>\n",
       "      <td>poverty forms eveywhere</td>\n",
       "    </tr>\n",
       "    <tr>\n",
       "      <th>1</th>\n",
       "      <td>2</td>\n",
       "      <td>Hunger</td>\n",
       "      <td>Hunger End hunger, achieve food security and i...</td>\n",
       "      <td>hunger food security nutrition agriculture</td>\n",
       "      <td>hunger food security nutrition agriculture</td>\n",
       "    </tr>\n",
       "    <tr>\n",
       "      <th>2</th>\n",
       "      <td>3</td>\n",
       "      <td>Health</td>\n",
       "      <td>Health Ensure healthy lives and promote well-b...</td>\n",
       "      <td>health lives well being all ages</td>\n",
       "      <td>health lives well ages</td>\n",
       "    </tr>\n",
       "    <tr>\n",
       "      <th>3</th>\n",
       "      <td>4</td>\n",
       "      <td>Education</td>\n",
       "      <td>Education Ensure inclusive and equitable quali...</td>\n",
       "      <td>inclusive equitable education lifelong learnin...</td>\n",
       "      <td>inclusive equitable education lifelong learnin...</td>\n",
       "    </tr>\n",
       "    <tr>\n",
       "      <th>4</th>\n",
       "      <td>5</td>\n",
       "      <td>Gender</td>\n",
       "      <td>Gender Achieve gender equality and empower all...</td>\n",
       "      <td>gender equality empower women girls</td>\n",
       "      <td>gender equality empower women girls</td>\n",
       "    </tr>\n",
       "  </tbody>\n",
       "</table>\n",
       "</div>"
      ],
      "text/plain": [
       "   ID       Goal                                      OrigionalText  \\\n",
       "0   1    Poverty    Poverty End poverty in all its forms everywhere   \n",
       "1   2     Hunger  Hunger End hunger, achieve food security and i...   \n",
       "2   3     Health  Health Ensure healthy lives and promote well-b...   \n",
       "3   4  Education  Education Ensure inclusive and equitable quali...   \n",
       "4   5     Gender  Gender Achieve gender equality and empower all...   \n",
       "\n",
       "                                            GoalText  \\\n",
       "0                            poverty forms eveywhere   \n",
       "1         hunger food security nutrition agriculture   \n",
       "2                   health lives well being all ages   \n",
       "3  inclusive equitable education lifelong learnin...   \n",
       "4                gender equality empower women girls   \n",
       "\n",
       "                                            TrimGoal  \n",
       "0                            poverty forms eveywhere  \n",
       "1         hunger food security nutrition agriculture  \n",
       "2                             health lives well ages  \n",
       "3  inclusive equitable education lifelong learnin...  \n",
       "4                gender equality empower women girls  "
      ]
     },
     "execution_count": 464,
     "metadata": {},
     "output_type": "execute_result"
    }
   ],
   "source": [
    "SDG_Targets = pd.read_excel(dir +'SDG goalsTrav.xlsx', names = ['ID', 'Goal','OrigionalText','GoalText'],sheetname = 'Sheet1')\n",
    "SDG_Targets['TrimGoal'] = ''\n",
    "\n",
    "targtext = []\n",
    "x=0\n",
    "\n",
    "while x < len(SDG_Targets):\n",
    "    y = SDG_Targets['GoalText'][x].lower().replace('-',' ').split(' ')\n",
    "    y = [z for z in y if z.isalpha() if z not in stop]\n",
    "    targtext.append(' '.join(y))\n",
    "    x=x+1\n",
    "    \n",
    "SDG_Targets['TrimGoal'] = targtext\n",
    "\n",
    "SDG_Targets.head()"
   ]
  },
  {
   "cell_type": "code",
   "execution_count": 465,
   "metadata": {
    "collapsed": false,
    "scrolled": true
   },
   "outputs": [],
   "source": [
    "f = open(dir + 'Bhutan_Doc_test.txt', 'r')\n",
    "f = f.read().replace('. \\n\\n','.\\n\\n').replace('-',' ').replace('\\x0c',' ').replace('...','').split('.\\n\\n')\n",
    "f = [w.replace('\\n',' ') for w in f]\n",
    "\n",
    "w=0\n",
    "wlist=[]\n",
    "while w<len(f):\n",
    "    wlist.append(w)\n",
    "    w=w+1\n",
    "    "
   ]
  },
  {
   "cell_type": "code",
   "execution_count": 466,
   "metadata": {
    "collapsed": true,
    "scrolled": true
   },
   "outputs": [],
   "source": [
    "Paragraph_DF = pd.DataFrame(columns = ['Number','Text', 'TrimText'])\n",
    "Paragraph_DF['Number'] = wlist\n",
    "Paragraph_DF['Text'] = f"
   ]
  },
  {
   "cell_type": "code",
   "execution_count": 467,
   "metadata": {
    "collapsed": false,
    "scrolled": true
   },
   "outputs": [],
   "source": [
    "ttext = []\n",
    "x = 0 \n",
    "while x < len(Paragraph_DF):\n",
    "    y = Paragraph_DF['Text'][x].lower().split(' ')\n",
    "    y = [z for z in y if z.isalpha() if z not in stop]\n",
    "    ttext.append(' '.join(y))\n",
    "    x=x+1\n",
    "    \n",
    "    \n",
    "Paragraph_DF['TrimText'] = ttext"
   ]
  },
  {
   "cell_type": "code",
   "execution_count": 468,
   "metadata": {
    "collapsed": false
   },
   "outputs": [],
   "source": [
    "stemtext = []\n",
    "x = 0\n",
    "while x<len(Paragraph_DF):\n",
    "    y = Paragraph_DF['TrimText'][x].split(' ')\n",
    "    y = ' '.join([porter.stem(z) for z in y])\n",
    "    stemtext.append(y)\n",
    "    x=x+1\n",
    "    \n",
    "Paragraph_DF['StemText'] = stemtext"
   ]
  },
  {
   "cell_type": "code",
   "execution_count": 469,
   "metadata": {
    "collapsed": false,
    "scrolled": true
   },
   "outputs": [
    {
     "data": {
      "text/html": [
       "<div>\n",
       "<table border=\"1\" class=\"dataframe\">\n",
       "  <thead>\n",
       "    <tr style=\"text-align: right;\">\n",
       "      <th></th>\n",
       "      <th>Number</th>\n",
       "      <th>Text</th>\n",
       "      <th>TrimText</th>\n",
       "      <th>StemText</th>\n",
       "    </tr>\n",
       "  </thead>\n",
       "  <tbody>\n",
       "    <tr>\n",
       "      <th>0</th>\n",
       "      <td>0</td>\n",
       "      <td>Eleventh Five Year Plan   Main Document Volume...</td>\n",
       "      <td>eleventh five year plan main document volume e...</td>\n",
       "      <td>eleventh five year plan main document volum el...</td>\n",
       "    </tr>\n",
       "    <tr>\n",
       "      <th>1</th>\n",
       "      <td>1</td>\n",
       "      <td>ISBN 978 99936 55 01 5     Eleventh Five Year ...</td>\n",
       "      <td>isbn eleventh five year plan main document vol...</td>\n",
       "      <td>isbn eleventh five year plan main document vol...</td>\n",
       "    </tr>\n",
       "    <tr>\n",
       "      <th>2</th>\n",
       "      <td>2</td>\n",
       "      <td>The government has provided education to our y...</td>\n",
       "      <td>government provided education nation prosper s...</td>\n",
       "      <td>govern provid educ nation prosper sound educ m...</td>\n",
       "    </tr>\n",
       "    <tr>\n",
       "      <th>3</th>\n",
       "      <td>3</td>\n",
       "      <td>The recent Rupee shortage is a serious proble...</td>\n",
       "      <td>recent rupee shortage serious feel reminder mu...</td>\n",
       "      <td>recent rupe shortag seriou feel remind must ex...</td>\n",
       "    </tr>\n",
       "    <tr>\n",
       "      <th>4</th>\n",
       "      <td>4</td>\n",
       "      <td>His Majesty The King’s address to the nat...</td>\n",
       "      <td>majesty address nation national day december t...</td>\n",
       "      <td>majesti address nation nation day decemb thimphu</td>\n",
       "    </tr>\n",
       "    <tr>\n",
       "      <th>5</th>\n",
       "      <td>5</td>\n",
       "      <td>Eleventh Five Year Plan   Main Document Vol...</td>\n",
       "      <td>eleventh five year plan main document volume e...</td>\n",
       "      <td>eleventh five year plan main document volum el...</td>\n",
       "    </tr>\n",
       "    <tr>\n",
       "      <th>6</th>\n",
       "      <td>6</td>\n",
       "      <td>Royal Government of Bhutan  PRIME MINISTER    ...</td>\n",
       "      <td>royal government bhutan prime minister elevent...</td>\n",
       "      <td>royal govern bhutan prime minist eleventh five...</td>\n",
       "    </tr>\n",
       "    <tr>\n",
       "      <th>7</th>\n",
       "      <td>7</td>\n",
       "      <td>Royal Government of Bhutan  PRIME MINISTER    ...</td>\n",
       "      <td>royal government bhutan prime minister elevent...</td>\n",
       "      <td>royal govern bhutan prime minist eleventh five...</td>\n",
       "    </tr>\n",
       "    <tr>\n",
       "      <th>8</th>\n",
       "      <td>8</td>\n",
       "      <td>Royal Government of Bhutan  PRIME MINISTER    ...</td>\n",
       "      <td>royal government bhutan prime minister elevent...</td>\n",
       "      <td>royal govern bhutan prime minist eleventh five...</td>\n",
       "    </tr>\n",
       "    <tr>\n",
       "      <th>9</th>\n",
       "      <td>9</td>\n",
       "      <td>Chapter One presents the development planning ...</td>\n",
       "      <td>chapter one presents development planning effo...</td>\n",
       "      <td>chapter one present develop plan effort toward...</td>\n",
       "    </tr>\n",
       "  </tbody>\n",
       "</table>\n",
       "</div>"
      ],
      "text/plain": [
       "   Number                                               Text  \\\n",
       "0       0  Eleventh Five Year Plan   Main Document Volume...   \n",
       "1       1  ISBN 978 99936 55 01 5     Eleventh Five Year ...   \n",
       "2       2  The government has provided education to our y...   \n",
       "3       3   The recent Rupee shortage is a serious proble...   \n",
       "4       4       His Majesty The King’s address to the nat...   \n",
       "5       5     Eleventh Five Year Plan   Main Document Vol...   \n",
       "6       6  Royal Government of Bhutan  PRIME MINISTER    ...   \n",
       "7       7  Royal Government of Bhutan  PRIME MINISTER    ...   \n",
       "8       8  Royal Government of Bhutan  PRIME MINISTER    ...   \n",
       "9       9  Chapter One presents the development planning ...   \n",
       "\n",
       "                                            TrimText  \\\n",
       "0  eleventh five year plan main document volume e...   \n",
       "1  isbn eleventh five year plan main document vol...   \n",
       "2  government provided education nation prosper s...   \n",
       "3  recent rupee shortage serious feel reminder mu...   \n",
       "4  majesty address nation national day december t...   \n",
       "5  eleventh five year plan main document volume e...   \n",
       "6  royal government bhutan prime minister elevent...   \n",
       "7  royal government bhutan prime minister elevent...   \n",
       "8  royal government bhutan prime minister elevent...   \n",
       "9  chapter one presents development planning effo...   \n",
       "\n",
       "                                            StemText  \n",
       "0  eleventh five year plan main document volum el...  \n",
       "1  isbn eleventh five year plan main document vol...  \n",
       "2  govern provid educ nation prosper sound educ m...  \n",
       "3  recent rupe shortag seriou feel remind must ex...  \n",
       "4   majesti address nation nation day decemb thimphu  \n",
       "5  eleventh five year plan main document volum el...  \n",
       "6  royal govern bhutan prime minist eleventh five...  \n",
       "7  royal govern bhutan prime minist eleventh five...  \n",
       "8  royal govern bhutan prime minist eleventh five...  \n",
       "9  chapter one present develop plan effort toward...  "
      ]
     },
     "execution_count": 469,
     "metadata": {},
     "output_type": "execute_result"
    }
   ],
   "source": [
    "Paragraph_DF.head(10)"
   ]
  },
  {
   "cell_type": "code",
   "execution_count": 470,
   "metadata": {
    "collapsed": true
   },
   "outputs": [],
   "source": [
    "alldocs = ttext+targtext"
   ]
  },
  {
   "cell_type": "code",
   "execution_count": 471,
   "metadata": {
    "collapsed": true,
    "scrolled": true
   },
   "outputs": [],
   "source": [
    "a = 0"
   ]
  },
  {
   "cell_type": "code",
   "execution_count": 472,
   "metadata": {
    "collapsed": false,
    "scrolled": true
   },
   "outputs": [],
   "source": [
    "Evaluation = pd.DataFrame([[0,0,'Stuff']],columns = ['Run','Score','Input'])"
   ]
  },
  {
   "cell_type": "code",
   "execution_count": 473,
   "metadata": {
    "collapsed": false,
    "scrolled": true
   },
   "outputs": [
    {
     "data": {
      "text/plain": [
       "0.07267113835335123"
      ]
     },
     "execution_count": 473,
     "metadata": {},
     "output_type": "execute_result"
    }
   ],
   "source": [
    "stuff = \"ngram_range = (1,2),sublinear_tf=False, min_df = 0.01, max_features = 1100\"\n",
    "tfidfvectorizer =TfidfVectorizer(ngram_range = (1,2),sublinear_tf=False, \n",
    "                                 min_df = 0.01, max_features = 1100) \n",
    "\n",
    "x = tfidfvectorizer.fit_transform(alldocs)\n",
    "y = pd.DataFrame((x * x.T).A)\n",
    "\n",
    "z = y.ix[:len(ttext)-1,len(ttext):]\n",
    "z.columns = list(SDG_Targets['ID'])\n",
    "\n",
    "z1=z.unstack().reset_index()\n",
    "z1.columns = ['Goal','Paragraph','CosineSimilarity']\n",
    "z2 = z1[(z1['Goal'] != z1['Paragraph']) & (z1['CosineSimilarity'] > 0)]\n",
    "\n",
    "z2.sort_values(by = 'CosineSimilarity', ascending = False).head()\n",
    "\n",
    "avg = z2['CosineSimilarity'].mean()\n",
    "\n",
    "Eval = pd.DataFrame([[a,avg,stuff]],columns = ['Run','Score','Input'])\n",
    "Evaluation = pd.concat([Evaluation, Eval],axis=0)\n",
    "a=a+1\n",
    "\n",
    "avg"
   ]
  },
  {
   "cell_type": "code",
   "execution_count": 474,
   "metadata": {
    "collapsed": false,
    "scrolled": true
   },
   "outputs": [
    {
     "data": {
      "text/html": [
       "<div>\n",
       "<table border=\"1\" class=\"dataframe\">\n",
       "  <thead>\n",
       "    <tr style=\"text-align: right;\">\n",
       "      <th></th>\n",
       "      <th>Run</th>\n",
       "      <th>Score</th>\n",
       "      <th>Input</th>\n",
       "    </tr>\n",
       "  </thead>\n",
       "  <tbody>\n",
       "    <tr>\n",
       "      <th>0</th>\n",
       "      <td>0</td>\n",
       "      <td>0.072671</td>\n",
       "      <td>ngram_range = (1,2),sublinear_tf=False, min_df...</td>\n",
       "    </tr>\n",
       "    <tr>\n",
       "      <th>0</th>\n",
       "      <td>0</td>\n",
       "      <td>0.000000</td>\n",
       "      <td>Stuff</td>\n",
       "    </tr>\n",
       "  </tbody>\n",
       "</table>\n",
       "</div>"
      ],
      "text/plain": [
       "   Run     Score                                              Input\n",
       "0    0  0.072671  ngram_range = (1,2),sublinear_tf=False, min_df...\n",
       "0    0  0.000000                                              Stuff"
      ]
     },
     "execution_count": 474,
     "metadata": {},
     "output_type": "execute_result"
    }
   ],
   "source": [
    "Evaluation.sort_values(by = ['Score'], ascending = False).head(3)"
   ]
  },
  {
   "cell_type": "code",
   "execution_count": 475,
   "metadata": {
    "collapsed": false,
    "scrolled": true
   },
   "outputs": [
    {
     "data": {
      "image/png": "[encoded data removed]",
      "text/plain": [
       "<matplotlib.figure.Figure at 0x20ea1d84438>"
      ]
     },
     "metadata": {},
     "output_type": "display_data"
    }
   ],
   "source": [
    "z2['CosineSimilarity'].hist(bins = 100);"
   ]
  },
  {
   "cell_type": "code",
   "execution_count": 476,
   "metadata": {
    "collapsed": false
   },
   "outputs": [
    {
     "data": {
      "text/plain": [
       "<matplotlib.axes._subplots.AxesSubplot at 0x20ea3434d68>"
      ]
     },
     "execution_count": 476,
     "metadata": {},
     "output_type": "execute_result"
    },
    {
     "data": {
      "image/png": "[encoded data removed]",
      "text/plain": [
       "<matplotlib.figure.Figure at 0x20ea343dfd0>"
      ]
     },
     "metadata": {},
     "output_type": "display_data"
    }
   ],
   "source": [
    "sns.violinplot(y = z2['CosineSimilarity'])"
   ]
  },
  {
   "cell_type": "code",
   "execution_count": 477,
   "metadata": {
    "collapsed": false,
    "scrolled": false
   },
   "outputs": [
    {
     "name": "stderr",
     "output_type": "stream",
     "text": [
      "C:\\Users\\Travis Park\\Anaconda3_1\\lib\\site-packages\\ipykernel\\__main__.py:1: FutureWarning: sort(columns=....) is deprecated, use sort_values(by=.....)\n",
      "  if __name__ == '__main__':\n"
     ]
    },
    {
     "data": {
      "text/html": [
       "<div>\n",
       "<table border=\"1\" class=\"dataframe\">\n",
       "  <thead>\n",
       "    <tr style=\"text-align: right;\">\n",
       "      <th></th>\n",
       "      <th>Goal</th>\n",
       "      <th>Paragraph</th>\n",
       "      <th>CosineSimilarity</th>\n",
       "    </tr>\n",
       "  </thead>\n",
       "  <tbody>\n",
       "    <tr>\n",
       "      <th>13496</th>\n",
       "      <td>13</td>\n",
       "      <td>116</td>\n",
       "      <td>0.832355</td>\n",
       "    </tr>\n",
       "    <tr>\n",
       "      <th>4693</th>\n",
       "      <td>5</td>\n",
       "      <td>233</td>\n",
       "      <td>0.605104</td>\n",
       "    </tr>\n",
       "    <tr>\n",
       "      <th>5203</th>\n",
       "      <td>5</td>\n",
       "      <td>743</td>\n",
       "      <td>0.560503</td>\n",
       "    </tr>\n",
       "    <tr>\n",
       "      <th>4021</th>\n",
       "      <td>4</td>\n",
       "      <td>676</td>\n",
       "      <td>0.555803</td>\n",
       "    </tr>\n",
       "    <tr>\n",
       "      <th>4694</th>\n",
       "      <td>5</td>\n",
       "      <td>234</td>\n",
       "      <td>0.525317</td>\n",
       "    </tr>\n",
       "    <tr>\n",
       "      <th>18559</th>\n",
       "      <td>17</td>\n",
       "      <td>719</td>\n",
       "      <td>0.490452</td>\n",
       "    </tr>\n",
       "    <tr>\n",
       "      <th>4698</th>\n",
       "      <td>5</td>\n",
       "      <td>238</td>\n",
       "      <td>0.462638</td>\n",
       "    </tr>\n",
       "    <tr>\n",
       "      <th>2371</th>\n",
       "      <td>3</td>\n",
       "      <td>141</td>\n",
       "      <td>0.440796</td>\n",
       "    </tr>\n",
       "    <tr>\n",
       "      <th>16098</th>\n",
       "      <td>15</td>\n",
       "      <td>488</td>\n",
       "      <td>0.425857</td>\n",
       "    </tr>\n",
       "    <tr>\n",
       "      <th>2650</th>\n",
       "      <td>3</td>\n",
       "      <td>420</td>\n",
       "      <td>0.423284</td>\n",
       "    </tr>\n",
       "  </tbody>\n",
       "</table>\n",
       "</div>"
      ],
      "text/plain": [
       "       Goal  Paragraph  CosineSimilarity\n",
       "13496    13        116          0.832355\n",
       "4693      5        233          0.605104\n",
       "5203      5        743          0.560503\n",
       "4021      4        676          0.555803\n",
       "4694      5        234          0.525317\n",
       "18559    17        719          0.490452\n",
       "4698      5        238          0.462638\n",
       "2371      3        141          0.440796\n",
       "16098    15        488          0.425857\n",
       "2650      3        420          0.423284"
      ]
     },
     "execution_count": 477,
     "metadata": {},
     "output_type": "execute_result"
    }
   ],
   "source": [
    "z2.sort(['CosineSimilarity'], ascending = False).head(10)"
   ]
  },
  {
   "cell_type": "code",
   "execution_count": 497,
   "metadata": {
    "collapsed": false
   },
   "outputs": [
    {
     "name": "stdout",
     "output_type": "stream",
     "text": [
      "<class 'pandas.core.frame.DataFrame'>\n",
      "RangeIndex: 897 entries, 0 to 896\n",
      "Data columns (total 2 columns):\n",
      "Paragraph           897 non-null int64\n",
      "CosineSimilarity    897 non-null float64\n",
      "dtypes: float64(1), int64(1)\n",
      "memory usage: 14.1 KB\n"
     ]
    }
   ],
   "source": [
    "z3 = pd.pivot_table(z2, values = 'CosineSimilarity',index = 'Paragraph', aggfunc = 'max').reset_index()\n",
    "\n",
    "z3.info()"
   ]
  },
  {
   "cell_type": "code",
   "execution_count": 479,
   "metadata": {
    "collapsed": false
   },
   "outputs": [
    {
     "data": {
      "text/html": [
       "<div>\n",
       "<table border=\"1\" class=\"dataframe\">\n",
       "  <thead>\n",
       "    <tr style=\"text-align: right;\">\n",
       "      <th></th>\n",
       "      <th>Paragraph</th>\n",
       "      <th>CosineSimilarity</th>\n",
       "      <th>Goal</th>\n",
       "      <th>Text</th>\n",
       "      <th>TrimText</th>\n",
       "      <th>StemText</th>\n",
       "      <th>OrigionalText</th>\n",
       "      <th>GoalText</th>\n",
       "      <th>TrimGoal</th>\n",
       "    </tr>\n",
       "  </thead>\n",
       "  <tbody>\n",
       "    <tr>\n",
       "      <th>0</th>\n",
       "      <td>0</td>\n",
       "      <td>0.030548</td>\n",
       "      <td>16</td>\n",
       "      <td>Eleventh Five Year Plan   Main Document Volume...</td>\n",
       "      <td>eleventh five year plan main document volume e...</td>\n",
       "      <td>eleventh five year plan main document volum el...</td>\n",
       "      <td>Peaceful Societies Promote peaceful and inclus...</td>\n",
       "      <td>peaceful inclusive societies  access justice a...</td>\n",
       "      <td>peaceful inclusive societies access justice bu...</td>\n",
       "    </tr>\n",
       "    <tr>\n",
       "      <th>1</th>\n",
       "      <td>1</td>\n",
       "      <td>0.171597</td>\n",
       "      <td>8</td>\n",
       "      <td>ISBN 978 99936 55 01 5     Eleventh Five Year ...</td>\n",
       "      <td>isbn eleventh five year plan main document vol...</td>\n",
       "      <td>isbn eleventh five year plan main document vol...</td>\n",
       "      <td>Employment Promote sustained, inclusive and su...</td>\n",
       "      <td>inclusive economic growth full productive empl...</td>\n",
       "      <td>inclusive economic growth full productive empl...</td>\n",
       "    </tr>\n",
       "    <tr>\n",
       "      <th>2</th>\n",
       "      <td>2</td>\n",
       "      <td>0.212145</td>\n",
       "      <td>3</td>\n",
       "      <td>The government has provided education to our y...</td>\n",
       "      <td>government provided education nation prosper s...</td>\n",
       "      <td>govern provid educ nation prosper sound educ m...</td>\n",
       "      <td>Health Ensure healthy lives and promote well-b...</td>\n",
       "      <td>health lives well being all ages</td>\n",
       "      <td>health lives well ages</td>\n",
       "    </tr>\n",
       "    <tr>\n",
       "      <th>3</th>\n",
       "      <td>3</td>\n",
       "      <td>0.121224</td>\n",
       "      <td>8</td>\n",
       "      <td>The recent Rupee shortage is a serious proble...</td>\n",
       "      <td>recent rupee shortage serious feel reminder mu...</td>\n",
       "      <td>recent rupe shortag seriou feel remind must ex...</td>\n",
       "      <td>Employment Promote sustained, inclusive and su...</td>\n",
       "      <td>inclusive economic growth full productive empl...</td>\n",
       "      <td>inclusive economic growth full productive empl...</td>\n",
       "    </tr>\n",
       "    <tr>\n",
       "      <th>6</th>\n",
       "      <td>8</td>\n",
       "      <td>0.050040</td>\n",
       "      <td>14</td>\n",
       "      <td>Royal Government of Bhutan  PRIME MINISTER    ...</td>\n",
       "      <td>royal government bhutan prime minister elevent...</td>\n",
       "      <td>royal govern bhutan prime minist eleventh five...</td>\n",
       "      <td>Climate change  Conserve and sustainably use t...</td>\n",
       "      <td>oceans seas marine resources sustainable devel...</td>\n",
       "      <td>oceans seas marine resources sustainable devel...</td>\n",
       "    </tr>\n",
       "  </tbody>\n",
       "</table>\n",
       "</div>"
      ],
      "text/plain": [
       "   Paragraph  CosineSimilarity  Goal  \\\n",
       "0          0          0.030548    16   \n",
       "1          1          0.171597     8   \n",
       "2          2          0.212145     3   \n",
       "3          3          0.121224     8   \n",
       "6          8          0.050040    14   \n",
       "\n",
       "                                                Text  \\\n",
       "0  Eleventh Five Year Plan   Main Document Volume...   \n",
       "1  ISBN 978 99936 55 01 5     Eleventh Five Year ...   \n",
       "2  The government has provided education to our y...   \n",
       "3   The recent Rupee shortage is a serious proble...   \n",
       "6  Royal Government of Bhutan  PRIME MINISTER    ...   \n",
       "\n",
       "                                            TrimText  \\\n",
       "0  eleventh five year plan main document volume e...   \n",
       "1  isbn eleventh five year plan main document vol...   \n",
       "2  government provided education nation prosper s...   \n",
       "3  recent rupee shortage serious feel reminder mu...   \n",
       "6  royal government bhutan prime minister elevent...   \n",
       "\n",
       "                                            StemText  \\\n",
       "0  eleventh five year plan main document volum el...   \n",
       "1  isbn eleventh five year plan main document vol...   \n",
       "2  govern provid educ nation prosper sound educ m...   \n",
       "3  recent rupe shortag seriou feel remind must ex...   \n",
       "6  royal govern bhutan prime minist eleventh five...   \n",
       "\n",
       "                                       OrigionalText  \\\n",
       "0  Peaceful Societies Promote peaceful and inclus...   \n",
       "1  Employment Promote sustained, inclusive and su...   \n",
       "2  Health Ensure healthy lives and promote well-b...   \n",
       "3  Employment Promote sustained, inclusive and su...   \n",
       "6  Climate change  Conserve and sustainably use t...   \n",
       "\n",
       "                                            GoalText  \\\n",
       "0  peaceful inclusive societies  access justice a...   \n",
       "1  inclusive economic growth full productive empl...   \n",
       "2                   health lives well being all ages   \n",
       "3  inclusive economic growth full productive empl...   \n",
       "6  oceans seas marine resources sustainable devel...   \n",
       "\n",
       "                                            TrimGoal  \n",
       "0  peaceful inclusive societies access justice bu...  \n",
       "1  inclusive economic growth full productive empl...  \n",
       "2                             health lives well ages  \n",
       "3  inclusive economic growth full productive empl...  \n",
       "6  oceans seas marine resources sustainable devel...  "
      ]
     },
     "execution_count": 479,
     "metadata": {},
     "output_type": "execute_result"
    }
   ],
   "source": [
    "z4 = pd.merge(z3, z2, how = 'left', left_on = ['Paragraph','CosineSimilarity'], right_on = ['Paragraph','CosineSimilarity'])\n",
    "z4 = pd.merge(z4, Paragraph_DF, how = 'left', left_on = 'Paragraph', right_on = 'Number')\n",
    "z4 = pd.merge(z4, SDG_Targets, how = 'left', left_on = 'Goal', right_on = 'ID')\n",
    "z4 = z4.drop(['Number','ID','Goal_y'],1)\n",
    "z4.rename(columns={'Goal_x': 'Goal'}, inplace = True)\n",
    "z4 = z4[(z4['TrimText'].str.len() > 100)]\n",
    "#z4['Confidence'] = np.log1p(z4['CosineSimilarity'])\n",
    "z4.head()"
   ]
  },
  {
   "cell_type": "code",
   "execution_count": 482,
   "metadata": {
    "collapsed": false,
    "scrolled": true
   },
   "outputs": [],
   "source": [
    "z4.to_csv(dir + 'rebuild.csv')"
   ]
  },
  {
   "cell_type": "code",
   "execution_count": 483,
   "metadata": {
    "collapsed": false,
    "scrolled": true
   },
   "outputs": [
    {
     "data": {
      "image/png": "[encoded data removed]",
      "text/plain": [
       "<matplotlib.figure.Figure at 0x20ea34cea58>"
      ]
     },
     "metadata": {},
     "output_type": "display_data"
    }
   ],
   "source": [
    "plt = sns.swarmplot(x=\"Goal\", y=\"CosineSimilarity\", data=z4, size = 5, edgecolor = 'w', palette = 'Set2');"
   ]
  },
  {
   "cell_type": "code",
   "execution_count": 484,
   "metadata": {
    "collapsed": false
   },
   "outputs": [],
   "source": [
    "SubTargets = pd.read_excel(dir +'SDG_test.xlsx', names = ['ID','GoalID','Target'],sheetname = 'Sheet2')\n",
    "SubTargets['TrimTarget'] = ''\n",
    "SubTargets['StemTarget'] = ''\n",
    "\n",
    "stargtext = []\n",
    "x=0\n",
    "\n",
    "while x < len(SubTargets):\n",
    "    y = SubTargets['Target'][x].lower().replace('-',' ').split(' ')\n",
    "    y = [z for z in y if z.isalpha() if z not in stop]\n",
    "    stargtext.append(' '.join(y))\n",
    "    x=x+1\n",
    "    \n",
    "SubTargets['TrimTarget'] = stargtext"
   ]
  },
  {
   "cell_type": "code",
   "execution_count": 485,
   "metadata": {
    "collapsed": true
   },
   "outputs": [],
   "source": [
    "stemstargtext = []\n",
    "x=0\n",
    "\n",
    "while x < len(SubTargets):\n",
    "    y = SubTargets['TrimTarget'][x].split(' ')\n",
    "    y = ' '.join([porter.stem(z) for z in y])\n",
    "    stemstargtext.append(y)\n",
    "    x=x+1\n",
    "    \n",
    "SubTargets['StemTarget'] = stemstargtext"
   ]
  },
  {
   "cell_type": "code",
   "execution_count": 486,
   "metadata": {
    "collapsed": false
   },
   "outputs": [
    {
     "data": {
      "text/html": [
       "<div>\n",
       "<table border=\"1\" class=\"dataframe\">\n",
       "  <thead>\n",
       "    <tr style=\"text-align: right;\">\n",
       "      <th></th>\n",
       "      <th>ID</th>\n",
       "      <th>GoalID</th>\n",
       "      <th>Target</th>\n",
       "      <th>TrimTarget</th>\n",
       "      <th>StemTarget</th>\n",
       "    </tr>\n",
       "  </thead>\n",
       "  <tbody>\n",
       "    <tr>\n",
       "      <th>0</th>\n",
       "      <td>1.1</td>\n",
       "      <td>1</td>\n",
       "      <td>By 2030, eradicate extreme poverty for all peo...</td>\n",
       "      <td>eradicate extreme poverty people currently mea...</td>\n",
       "      <td>erad extrem poverti peopl current measur peopl...</td>\n",
       "    </tr>\n",
       "    <tr>\n",
       "      <th>1</th>\n",
       "      <td>1.2</td>\n",
       "      <td>1</td>\n",
       "      <td>By 2030, reduce at least by half the proportio...</td>\n",
       "      <td>reduce least half proportion women children ag...</td>\n",
       "      <td>reduc least half proport women children age li...</td>\n",
       "    </tr>\n",
       "    <tr>\n",
       "      <th>2</th>\n",
       "      <td>1.3</td>\n",
       "      <td>1</td>\n",
       "      <td>Implement nationally appropriate social protec...</td>\n",
       "      <td>implement nationally appropriate social protec...</td>\n",
       "      <td>implement nation appropri social protect syste...</td>\n",
       "    </tr>\n",
       "    <tr>\n",
       "      <th>3</th>\n",
       "      <td>1.4</td>\n",
       "      <td>1</td>\n",
       "      <td>By 2030, ensure that all men and women, in par...</td>\n",
       "      <td>ensure men particular poor equal rights econom...</td>\n",
       "      <td>ensur men particular poor equal right econom w...</td>\n",
       "    </tr>\n",
       "    <tr>\n",
       "      <th>4</th>\n",
       "      <td>1.5</td>\n",
       "      <td>1</td>\n",
       "      <td>By 2030, build the resilience of the poor and ...</td>\n",
       "      <td>build resilience poor vulnerable situations re...</td>\n",
       "      <td>build resili poor vulner situat reduc exposur ...</td>\n",
       "    </tr>\n",
       "  </tbody>\n",
       "</table>\n",
       "</div>"
      ],
      "text/plain": [
       "    ID  GoalID                                             Target  \\\n",
       "0  1.1       1  By 2030, eradicate extreme poverty for all peo...   \n",
       "1  1.2       1  By 2030, reduce at least by half the proportio...   \n",
       "2  1.3       1  Implement nationally appropriate social protec...   \n",
       "3  1.4       1  By 2030, ensure that all men and women, in par...   \n",
       "4  1.5       1  By 2030, build the resilience of the poor and ...   \n",
       "\n",
       "                                          TrimTarget  \\\n",
       "0  eradicate extreme poverty people currently mea...   \n",
       "1  reduce least half proportion women children ag...   \n",
       "2  implement nationally appropriate social protec...   \n",
       "3  ensure men particular poor equal rights econom...   \n",
       "4  build resilience poor vulnerable situations re...   \n",
       "\n",
       "                                          StemTarget  \n",
       "0  erad extrem poverti peopl current measur peopl...  \n",
       "1  reduc least half proport women children age li...  \n",
       "2  implement nation appropri social protect syste...  \n",
       "3  ensur men particular poor equal right econom w...  \n",
       "4  build resili poor vulner situat reduc exposur ...  "
      ]
     },
     "execution_count": 486,
     "metadata": {},
     "output_type": "execute_result"
    }
   ],
   "source": [
    "SubTargets.head()"
   ]
  },
  {
   "cell_type": "code",
   "execution_count": 502,
   "metadata": {
    "collapsed": false,
    "scrolled": true
   },
   "outputs": [
    {
     "name": "stdout",
     "output_type": "stream",
     "text": [
      "<class 'pandas.core.frame.DataFrame'>\n",
      "Int64Index: 863 entries, 0 to 896\n",
      "Data columns (total 9 columns):\n",
      "Paragraph           863 non-null int64\n",
      "CosineSimilarity    863 non-null float64\n",
      "Goal                863 non-null int64\n",
      "Text                863 non-null object\n",
      "TrimText            863 non-null object\n",
      "StemText            863 non-null object\n",
      "OrigionalText       863 non-null object\n",
      "GoalText            863 non-null object\n",
      "TrimGoal            863 non-null object\n",
      "dtypes: float64(1), int64(2), object(6)\n",
      "memory usage: 67.4+ KB\n"
     ]
    }
   ],
   "source": [
    "z4.info()"
   ]
  },
  {
   "cell_type": "code",
   "execution_count": 615,
   "metadata": {
    "collapsed": false
   },
   "outputs": [],
   "source": [
    "subtargets = list(SDG_Targets['ID'])\n",
    "SubGoal_Match =pd.DataFrame(columns = ['Goal','Target','Paragraph','T_Cosine'])\n",
    "\n",
    "y = 1\n",
    "                                       \n",
    "while y < len(subtargets)+1:\n",
    "    z5 = z4[(z4['Goal'] == y)]\n",
    "    SubTargets1 = SubTargets[(SubTargets['GoalID'] == y)]\n",
    "    trimtext = list(z5['StemText'])\n",
    "    trimstarget = list(SubTargets1['StemTarget'])\n",
    "    newcolumns = list(SubTargets1['ID'])\n",
    "    \n",
    "    t = TFIDFtotable(trimtext, trimstarget, newcolumns)\n",
    "    t['Goal'] = y\n",
    "    \n",
    "    frames = [SubGoal_Match, t]\n",
    "    SubGoal_Match = pd.concat(frames)\n",
    "    y=y+1"
   ]
  },
  {
   "cell_type": "code",
   "execution_count": 616,
   "metadata": {
    "collapsed": false,
    "scrolled": true
   },
   "outputs": [
    {
     "name": "stdout",
     "output_type": "stream",
     "text": [
      "<class 'pandas.core.frame.DataFrame'>\n",
      "Int64Index: 865 entries, 0 to 864\n",
      "Data columns (total 4 columns):\n",
      "Paragraph    865 non-null float64\n",
      "T_Cosine     865 non-null float64\n",
      "Goal         865 non-null float64\n",
      "Target       865 non-null object\n",
      "dtypes: float64(3), object(1)\n",
      "memory usage: 33.8+ KB\n"
     ]
    }
   ],
   "source": [
    "SubGoal_Max = pd.pivot_table(SubGoal_Match, values = 'T_Cosine',columns = 'Paragraph', aggfunc = 'max').reset_index()\n",
    "SubGoal_Max = pd.merge(SubGoal_Max, SubGoal_Match, how = 'left', left_on = ['Paragraph','T_Cosine'], right_on = ['Paragraph','T_Cosine'])\n",
    "SubGoal_Max.info()"
   ]
  },
  {
   "cell_type": "code",
   "execution_count": 617,
   "metadata": {
    "collapsed": false,
    "scrolled": false
   },
   "outputs": [
    {
     "name": "stdout",
     "output_type": "stream",
     "text": [
      "<class 'pandas.core.frame.DataFrame'>\n",
      "Int64Index: 865 entries, 0 to 864\n",
      "Data columns (total 9 columns):\n",
      "Paragraph     865 non-null float64\n",
      "T_Cosine      865 non-null float64\n",
      "Goal          865 non-null float64\n",
      "Target        865 non-null object\n",
      "PText         865 non-null object\n",
      "PTrimText     865 non-null object\n",
      "StemText      865 non-null object\n",
      "TargetText    865 non-null object\n",
      "TrimTarget    865 non-null object\n",
      "dtypes: float64(3), object(6)\n",
      "memory usage: 67.6+ KB\n"
     ]
    }
   ],
   "source": [
    "SubGoal_Max = SubGoal_Max[(SubGoal_Max['T_Cosine'] > 0)] \n",
    "SubGoal_Max = pd.merge(SubGoal_Max, Paragraph_DF, how = 'left', left_on = 'Paragraph', right_on = 'Number')\n",
    "SubGoal_Max = pd.merge(SubGoal_Max, SubTargets, how = 'left', left_on = 'Target', right_on = 'ID')\n",
    "SubGoal_Max = SubGoal_Max.drop(['Number','GoalID','StemTarget','ID'],1)\n",
    "SubGoal_Max.rename(columns={'Target_x': 'Target',\n",
    "                              'Text':'PText',\n",
    "                              'TrimText':'PTrimText',\n",
    "                              'Target_y':'TargetText'}, inplace = True)\n",
    "SubGoal_Max['Target'] = SubGoal_Max['Target'].astype(str)\n",
    "SubGoal_Max.info()"
   ]
  },
  {
   "cell_type": "code",
   "execution_count": 618,
   "metadata": {
    "collapsed": false
   },
   "outputs": [
    {
     "data": {
      "image/png": "[encoded data removed]",
      "text/plain": [
       "<matplotlib.figure.Figure at 0x20e9df087b8>"
      ]
     },
     "metadata": {},
     "output_type": "display_data"
    }
   ],
   "source": [
    "SubGoal_Max['T_Cosine'].hist(bins = 100);"
   ]
  },
  {
   "cell_type": "code",
   "execution_count": 619,
   "metadata": {
    "collapsed": false
   },
   "outputs": [],
   "source": [
    "SubGoal_Max.to_csv(dir + 'target_assign.csv')"
   ]
  },
  {
   "cell_type": "code",
   "execution_count": 623,
   "metadata": {
    "collapsed": false
   },
   "outputs": [
    {
     "ename": "ValueError",
     "evalue": "Length of values does not match length of index",
     "output_type": "error",
     "traceback": [
      "\u001b[0;31m---------------------------------------------------------------------------\u001b[0m",
      "\u001b[0;31mValueError\u001b[0m                                Traceback (most recent call last)",
      "\u001b[0;32m<ipython-input-623-b22386886461>\u001b[0m in \u001b[0;36m<module>\u001b[0;34m()\u001b[0m\n\u001b[1;32m      8\u001b[0m \u001b[1;31m#x=x.reset_index()\u001b[0m\u001b[1;33m\u001b[0m\u001b[1;33m\u001b[0m\u001b[0m\n\u001b[1;32m      9\u001b[0m \u001b[1;33m\u001b[0m\u001b[0m\n\u001b[0;32m---> 10\u001b[0;31m \u001b[0mx\u001b[0m\u001b[1;33m[\u001b[0m\u001b[1;34m'Text'\u001b[0m\u001b[1;33m]\u001b[0m \u001b[1;33m=\u001b[0m \u001b[0mtrimtext\u001b[0m\u001b[1;33m\u001b[0m\u001b[0m\n\u001b[0m\u001b[1;32m     11\u001b[0m \u001b[0mx\u001b[0m \u001b[1;33m=\u001b[0m \u001b[0mpd\u001b[0m\u001b[1;33m.\u001b[0m\u001b[0mmerge\u001b[0m\u001b[1;33m(\u001b[0m\u001b[0mx\u001b[0m\u001b[1;33m,\u001b[0m \u001b[0mParagraph_DF\u001b[0m\u001b[1;33m,\u001b[0m \u001b[0mhow\u001b[0m \u001b[1;33m=\u001b[0m \u001b[1;34m'left'\u001b[0m\u001b[1;33m,\u001b[0m \u001b[0mleft_on\u001b[0m \u001b[1;33m=\u001b[0m \u001b[1;34m'Text'\u001b[0m\u001b[1;33m,\u001b[0m \u001b[0mright_on\u001b[0m \u001b[1;33m=\u001b[0m \u001b[1;34m'StemText'\u001b[0m\u001b[1;33m)\u001b[0m\u001b[1;33m\u001b[0m\u001b[0m\n\u001b[1;32m     12\u001b[0m \u001b[0mx\u001b[0m\u001b[1;33m=\u001b[0m\u001b[0mx\u001b[0m\u001b[1;33m.\u001b[0m\u001b[0mdrop\u001b[0m\u001b[1;33m(\u001b[0m\u001b[1;33m[\u001b[0m\u001b[1;34m'Text_x'\u001b[0m\u001b[1;33m,\u001b[0m\u001b[1;34m'Text_y'\u001b[0m\u001b[1;33m,\u001b[0m\u001b[1;34m'TrimText'\u001b[0m\u001b[1;33m,\u001b[0m\u001b[1;34m'StemText'\u001b[0m\u001b[1;33m]\u001b[0m\u001b[1;33m,\u001b[0m\u001b[1;36m1\u001b[0m\u001b[1;33m)\u001b[0m\u001b[1;33m\u001b[0m\u001b[0m\n",
      "\u001b[0;32mC:\\Users\\Travis Park\\Anaconda3_1\\lib\\site-packages\\pandas\\core\\frame.py\u001b[0m in \u001b[0;36m__setitem__\u001b[0;34m(self, key, value)\u001b[0m\n\u001b[1;32m   2355\u001b[0m         \u001b[1;32melse\u001b[0m\u001b[1;33m:\u001b[0m\u001b[1;33m\u001b[0m\u001b[0m\n\u001b[1;32m   2356\u001b[0m             \u001b[1;31m# set column\u001b[0m\u001b[1;33m\u001b[0m\u001b[1;33m\u001b[0m\u001b[0m\n\u001b[0;32m-> 2357\u001b[0;31m             \u001b[0mself\u001b[0m\u001b[1;33m.\u001b[0m\u001b[0m_set_item\u001b[0m\u001b[1;33m(\u001b[0m\u001b[0mkey\u001b[0m\u001b[1;33m,\u001b[0m \u001b[0mvalue\u001b[0m\u001b[1;33m)\u001b[0m\u001b[1;33m\u001b[0m\u001b[0m\n\u001b[0m\u001b[1;32m   2358\u001b[0m \u001b[1;33m\u001b[0m\u001b[0m\n\u001b[1;32m   2359\u001b[0m     \u001b[1;32mdef\u001b[0m \u001b[0m_setitem_slice\u001b[0m\u001b[1;33m(\u001b[0m\u001b[0mself\u001b[0m\u001b[1;33m,\u001b[0m \u001b[0mkey\u001b[0m\u001b[1;33m,\u001b[0m \u001b[0mvalue\u001b[0m\u001b[1;33m)\u001b[0m\u001b[1;33m:\u001b[0m\u001b[1;33m\u001b[0m\u001b[0m\n",
      "\u001b[0;32mC:\\Users\\Travis Park\\Anaconda3_1\\lib\\site-packages\\pandas\\core\\frame.py\u001b[0m in \u001b[0;36m_set_item\u001b[0;34m(self, key, value)\u001b[0m\n\u001b[1;32m   2421\u001b[0m \u001b[1;33m\u001b[0m\u001b[0m\n\u001b[1;32m   2422\u001b[0m         \u001b[0mself\u001b[0m\u001b[1;33m.\u001b[0m\u001b[0m_ensure_valid_index\u001b[0m\u001b[1;33m(\u001b[0m\u001b[0mvalue\u001b[0m\u001b[1;33m)\u001b[0m\u001b[1;33m\u001b[0m\u001b[0m\n\u001b[0;32m-> 2423\u001b[0;31m         \u001b[0mvalue\u001b[0m \u001b[1;33m=\u001b[0m \u001b[0mself\u001b[0m\u001b[1;33m.\u001b[0m\u001b[0m_sanitize_column\u001b[0m\u001b[1;33m(\u001b[0m\u001b[0mkey\u001b[0m\u001b[1;33m,\u001b[0m \u001b[0mvalue\u001b[0m\u001b[1;33m)\u001b[0m\u001b[1;33m\u001b[0m\u001b[0m\n\u001b[0m\u001b[1;32m   2424\u001b[0m         \u001b[0mNDFrame\u001b[0m\u001b[1;33m.\u001b[0m\u001b[0m_set_item\u001b[0m\u001b[1;33m(\u001b[0m\u001b[0mself\u001b[0m\u001b[1;33m,\u001b[0m \u001b[0mkey\u001b[0m\u001b[1;33m,\u001b[0m \u001b[0mvalue\u001b[0m\u001b[1;33m)\u001b[0m\u001b[1;33m\u001b[0m\u001b[0m\n\u001b[1;32m   2425\u001b[0m \u001b[1;33m\u001b[0m\u001b[0m\n",
      "\u001b[0;32mC:\\Users\\Travis Park\\Anaconda3_1\\lib\\site-packages\\pandas\\core\\frame.py\u001b[0m in \u001b[0;36m_sanitize_column\u001b[0;34m(self, key, value)\u001b[0m\n\u001b[1;32m   2576\u001b[0m \u001b[1;33m\u001b[0m\u001b[0m\n\u001b[1;32m   2577\u001b[0m             \u001b[1;31m# turn me into an ndarray\u001b[0m\u001b[1;33m\u001b[0m\u001b[1;33m\u001b[0m\u001b[0m\n\u001b[0;32m-> 2578\u001b[0;31m             \u001b[0mvalue\u001b[0m \u001b[1;33m=\u001b[0m \u001b[0m_sanitize_index\u001b[0m\u001b[1;33m(\u001b[0m\u001b[0mvalue\u001b[0m\u001b[1;33m,\u001b[0m \u001b[0mself\u001b[0m\u001b[1;33m.\u001b[0m\u001b[0mindex\u001b[0m\u001b[1;33m,\u001b[0m \u001b[0mcopy\u001b[0m\u001b[1;33m=\u001b[0m\u001b[1;32mFalse\u001b[0m\u001b[1;33m)\u001b[0m\u001b[1;33m\u001b[0m\u001b[0m\n\u001b[0m\u001b[1;32m   2579\u001b[0m             \u001b[1;32mif\u001b[0m \u001b[1;32mnot\u001b[0m \u001b[0misinstance\u001b[0m\u001b[1;33m(\u001b[0m\u001b[0mvalue\u001b[0m\u001b[1;33m,\u001b[0m \u001b[1;33m(\u001b[0m\u001b[0mnp\u001b[0m\u001b[1;33m.\u001b[0m\u001b[0mndarray\u001b[0m\u001b[1;33m,\u001b[0m \u001b[0mIndex\u001b[0m\u001b[1;33m)\u001b[0m\u001b[1;33m)\u001b[0m\u001b[1;33m:\u001b[0m\u001b[1;33m\u001b[0m\u001b[0m\n\u001b[1;32m   2580\u001b[0m                 \u001b[1;32mif\u001b[0m \u001b[0misinstance\u001b[0m\u001b[1;33m(\u001b[0m\u001b[0mvalue\u001b[0m\u001b[1;33m,\u001b[0m \u001b[0mlist\u001b[0m\u001b[1;33m)\u001b[0m \u001b[1;32mand\u001b[0m \u001b[0mlen\u001b[0m\u001b[1;33m(\u001b[0m\u001b[0mvalue\u001b[0m\u001b[1;33m)\u001b[0m \u001b[1;33m>\u001b[0m \u001b[1;36m0\u001b[0m\u001b[1;33m:\u001b[0m\u001b[1;33m\u001b[0m\u001b[0m\n",
      "\u001b[0;32mC:\\Users\\Travis Park\\Anaconda3_1\\lib\\site-packages\\pandas\\core\\series.py\u001b[0m in \u001b[0;36m_sanitize_index\u001b[0;34m(data, index, copy)\u001b[0m\n\u001b[1;32m   2768\u001b[0m \u001b[1;33m\u001b[0m\u001b[0m\n\u001b[1;32m   2769\u001b[0m     \u001b[1;32mif\u001b[0m \u001b[0mlen\u001b[0m\u001b[1;33m(\u001b[0m\u001b[0mdata\u001b[0m\u001b[1;33m)\u001b[0m \u001b[1;33m!=\u001b[0m \u001b[0mlen\u001b[0m\u001b[1;33m(\u001b[0m\u001b[0mindex\u001b[0m\u001b[1;33m)\u001b[0m\u001b[1;33m:\u001b[0m\u001b[1;33m\u001b[0m\u001b[0m\n\u001b[0;32m-> 2770\u001b[0;31m         \u001b[1;32mraise\u001b[0m \u001b[0mValueError\u001b[0m\u001b[1;33m(\u001b[0m\u001b[1;34m'Length of values does not match length of '\u001b[0m \u001b[1;34m'index'\u001b[0m\u001b[1;33m)\u001b[0m\u001b[1;33m\u001b[0m\u001b[0m\n\u001b[0m\u001b[1;32m   2771\u001b[0m \u001b[1;33m\u001b[0m\u001b[0m\n\u001b[1;32m   2772\u001b[0m     \u001b[1;32mif\u001b[0m \u001b[0misinstance\u001b[0m\u001b[1;33m(\u001b[0m\u001b[0mdata\u001b[0m\u001b[1;33m,\u001b[0m \u001b[0mPeriodIndex\u001b[0m\u001b[1;33m)\u001b[0m\u001b[1;33m:\u001b[0m\u001b[1;33m\u001b[0m\u001b[0m\n",
      "\u001b[0;31mValueError\u001b[0m: Length of values does not match length of index"
     ]
    }
   ],
   "source": [
    "corpus = trimtext + trimstarget\n",
    "\n",
    "x = tfidfvectorizer.fit_transform(corpus)\n",
    "x = pd.DataFrame((x * x.T).A)\n",
    "\n",
    "x = x.ix[:,:len(trimstarget)-1]\n",
    "x.columns = newcolumns\n",
    "#x=x.reset_index()\n",
    "\n",
    "x['Text'] = trimtext\n",
    "x = pd.merge(x, Paragraph_DF, how = 'left', left_on = 'Text', right_on = 'StemText')\n",
    "x=x.drop(['Text_x','Text_y','TrimText','StemText'],1)\n",
    "x=pd.melt(x, id_vars=['Number'])\n",
    "x.rename(columns={'variable': 'Target','value':'T_Cosine'}, inplace = True)\n",
    "#x.columns =['Target','Paragraph','T_Cosine']\n",
    "TFIDFTable = x"
   ]
  },
  {
   "cell_type": "code",
   "execution_count": 621,
   "metadata": {
    "collapsed": false
   },
   "outputs": [
    {
     "data": {
      "text/plain": [
       "(513, 27)"
      ]
     },
     "execution_count": 621,
     "metadata": {},
     "output_type": "execute_result"
    }
   ],
   "source": [
    "len(x),len(trimtext)"
   ]
  },
  {
   "cell_type": "code",
   "execution_count": 622,
   "metadata": {
    "collapsed": false
   },
   "outputs": [
    {
     "data": {
      "text/html": [
       "<div>\n",
       "<table border=\"1\" class=\"dataframe\">\n",
       "  <thead>\n",
       "    <tr style=\"text-align: right;\">\n",
       "      <th></th>\n",
       "      <th>Number</th>\n",
       "      <th>Target</th>\n",
       "      <th>T_Cosine</th>\n",
       "    </tr>\n",
       "  </thead>\n",
       "  <tbody>\n",
       "    <tr>\n",
       "      <th>0</th>\n",
       "      <td>13</td>\n",
       "      <td>17.1</td>\n",
       "      <td>1.000000</td>\n",
       "    </tr>\n",
       "    <tr>\n",
       "      <th>1</th>\n",
       "      <td>26</td>\n",
       "      <td>17.1</td>\n",
       "      <td>0.124759</td>\n",
       "    </tr>\n",
       "    <tr>\n",
       "      <th>2</th>\n",
       "      <td>47</td>\n",
       "      <td>17.1</td>\n",
       "      <td>0.148360</td>\n",
       "    </tr>\n",
       "    <tr>\n",
       "      <th>3</th>\n",
       "      <td>53</td>\n",
       "      <td>17.1</td>\n",
       "      <td>0.101118</td>\n",
       "    </tr>\n",
       "    <tr>\n",
       "      <th>4</th>\n",
       "      <td>60</td>\n",
       "      <td>17.1</td>\n",
       "      <td>0.079244</td>\n",
       "    </tr>\n",
       "    <tr>\n",
       "      <th>5</th>\n",
       "      <td>112</td>\n",
       "      <td>17.1</td>\n",
       "      <td>0.116513</td>\n",
       "    </tr>\n",
       "    <tr>\n",
       "      <th>6</th>\n",
       "      <td>118</td>\n",
       "      <td>17.1</td>\n",
       "      <td>0.073487</td>\n",
       "    </tr>\n",
       "    <tr>\n",
       "      <th>7</th>\n",
       "      <td>128</td>\n",
       "      <td>17.1</td>\n",
       "      <td>0.613251</td>\n",
       "    </tr>\n",
       "    <tr>\n",
       "      <th>8</th>\n",
       "      <td>159</td>\n",
       "      <td>17.1</td>\n",
       "      <td>0.091009</td>\n",
       "    </tr>\n",
       "    <tr>\n",
       "      <th>9</th>\n",
       "      <td>192</td>\n",
       "      <td>17.1</td>\n",
       "      <td>0.024585</td>\n",
       "    </tr>\n",
       "    <tr>\n",
       "      <th>10</th>\n",
       "      <td>215</td>\n",
       "      <td>17.1</td>\n",
       "      <td>0.024342</td>\n",
       "    </tr>\n",
       "    <tr>\n",
       "      <th>11</th>\n",
       "      <td>251</td>\n",
       "      <td>17.1</td>\n",
       "      <td>0.176018</td>\n",
       "    </tr>\n",
       "    <tr>\n",
       "      <th>12</th>\n",
       "      <td>252</td>\n",
       "      <td>17.1</td>\n",
       "      <td>0.113781</td>\n",
       "    </tr>\n",
       "    <tr>\n",
       "      <th>13</th>\n",
       "      <td>363</td>\n",
       "      <td>17.1</td>\n",
       "      <td>0.036897</td>\n",
       "    </tr>\n",
       "    <tr>\n",
       "      <th>14</th>\n",
       "      <td>529</td>\n",
       "      <td>17.1</td>\n",
       "      <td>0.035603</td>\n",
       "    </tr>\n",
       "    <tr>\n",
       "      <th>15</th>\n",
       "      <td>545</td>\n",
       "      <td>17.1</td>\n",
       "      <td>0.036937</td>\n",
       "    </tr>\n",
       "    <tr>\n",
       "      <th>16</th>\n",
       "      <td>581</td>\n",
       "      <td>17.1</td>\n",
       "      <td>0.120316</td>\n",
       "    </tr>\n",
       "    <tr>\n",
       "      <th>17</th>\n",
       "      <td>597</td>\n",
       "      <td>17.1</td>\n",
       "      <td>0.114239</td>\n",
       "    </tr>\n",
       "    <tr>\n",
       "      <th>18</th>\n",
       "      <td>599</td>\n",
       "      <td>17.1</td>\n",
       "      <td>0.040550</td>\n",
       "    </tr>\n",
       "    <tr>\n",
       "      <th>19</th>\n",
       "      <td>692</td>\n",
       "      <td>17.1</td>\n",
       "      <td>0.061872</td>\n",
       "    </tr>\n",
       "    <tr>\n",
       "      <th>20</th>\n",
       "      <td>706</td>\n",
       "      <td>17.1</td>\n",
       "      <td>0.007963</td>\n",
       "    </tr>\n",
       "    <tr>\n",
       "      <th>21</th>\n",
       "      <td>719</td>\n",
       "      <td>17.1</td>\n",
       "      <td>0.121258</td>\n",
       "    </tr>\n",
       "    <tr>\n",
       "      <th>22</th>\n",
       "      <td>802</td>\n",
       "      <td>17.1</td>\n",
       "      <td>0.023505</td>\n",
       "    </tr>\n",
       "    <tr>\n",
       "      <th>23</th>\n",
       "      <td>824</td>\n",
       "      <td>17.1</td>\n",
       "      <td>0.078250</td>\n",
       "    </tr>\n",
       "    <tr>\n",
       "      <th>24</th>\n",
       "      <td>1009</td>\n",
       "      <td>17.1</td>\n",
       "      <td>0.090217</td>\n",
       "    </tr>\n",
       "    <tr>\n",
       "      <th>25</th>\n",
       "      <td>1088</td>\n",
       "      <td>17.1</td>\n",
       "      <td>0.017097</td>\n",
       "    </tr>\n",
       "    <tr>\n",
       "      <th>26</th>\n",
       "      <td>1107</td>\n",
       "      <td>17.1</td>\n",
       "      <td>0.045509</td>\n",
       "    </tr>\n",
       "    <tr>\n",
       "      <th>27</th>\n",
       "      <td>13</td>\n",
       "      <td>17.2</td>\n",
       "      <td>0.124759</td>\n",
       "    </tr>\n",
       "    <tr>\n",
       "      <th>28</th>\n",
       "      <td>26</td>\n",
       "      <td>17.2</td>\n",
       "      <td>1.000000</td>\n",
       "    </tr>\n",
       "    <tr>\n",
       "      <th>29</th>\n",
       "      <td>47</td>\n",
       "      <td>17.2</td>\n",
       "      <td>0.092084</td>\n",
       "    </tr>\n",
       "    <tr>\n",
       "      <th>...</th>\n",
       "      <td>...</td>\n",
       "      <td>...</td>\n",
       "      <td>...</td>\n",
       "    </tr>\n",
       "    <tr>\n",
       "      <th>483</th>\n",
       "      <td>1009</td>\n",
       "      <td>17.18</td>\n",
       "      <td>0.111222</td>\n",
       "    </tr>\n",
       "    <tr>\n",
       "      <th>484</th>\n",
       "      <td>1088</td>\n",
       "      <td>17.18</td>\n",
       "      <td>0.015705</td>\n",
       "    </tr>\n",
       "    <tr>\n",
       "      <th>485</th>\n",
       "      <td>1107</td>\n",
       "      <td>17.18</td>\n",
       "      <td>0.019910</td>\n",
       "    </tr>\n",
       "    <tr>\n",
       "      <th>486</th>\n",
       "      <td>13</td>\n",
       "      <td>17.19</td>\n",
       "      <td>0.040550</td>\n",
       "    </tr>\n",
       "    <tr>\n",
       "      <th>487</th>\n",
       "      <td>26</td>\n",
       "      <td>17.19</td>\n",
       "      <td>0.026882</td>\n",
       "    </tr>\n",
       "    <tr>\n",
       "      <th>488</th>\n",
       "      <td>47</td>\n",
       "      <td>17.19</td>\n",
       "      <td>0.052187</td>\n",
       "    </tr>\n",
       "    <tr>\n",
       "      <th>489</th>\n",
       "      <td>53</td>\n",
       "      <td>17.19</td>\n",
       "      <td>0.145639</td>\n",
       "    </tr>\n",
       "    <tr>\n",
       "      <th>490</th>\n",
       "      <td>60</td>\n",
       "      <td>17.19</td>\n",
       "      <td>0.061352</td>\n",
       "    </tr>\n",
       "    <tr>\n",
       "      <th>491</th>\n",
       "      <td>112</td>\n",
       "      <td>17.19</td>\n",
       "      <td>0.011804</td>\n",
       "    </tr>\n",
       "    <tr>\n",
       "      <th>492</th>\n",
       "      <td>118</td>\n",
       "      <td>17.19</td>\n",
       "      <td>0.017388</td>\n",
       "    </tr>\n",
       "    <tr>\n",
       "      <th>493</th>\n",
       "      <td>128</td>\n",
       "      <td>17.19</td>\n",
       "      <td>0.033559</td>\n",
       "    </tr>\n",
       "    <tr>\n",
       "      <th>494</th>\n",
       "      <td>159</td>\n",
       "      <td>17.19</td>\n",
       "      <td>0.056200</td>\n",
       "    </tr>\n",
       "    <tr>\n",
       "      <th>495</th>\n",
       "      <td>192</td>\n",
       "      <td>17.19</td>\n",
       "      <td>0.002748</td>\n",
       "    </tr>\n",
       "    <tr>\n",
       "      <th>496</th>\n",
       "      <td>215</td>\n",
       "      <td>17.19</td>\n",
       "      <td>0.150682</td>\n",
       "    </tr>\n",
       "    <tr>\n",
       "      <th>497</th>\n",
       "      <td>251</td>\n",
       "      <td>17.19</td>\n",
       "      <td>0.015244</td>\n",
       "    </tr>\n",
       "    <tr>\n",
       "      <th>498</th>\n",
       "      <td>252</td>\n",
       "      <td>17.19</td>\n",
       "      <td>0.043596</td>\n",
       "    </tr>\n",
       "    <tr>\n",
       "      <th>499</th>\n",
       "      <td>363</td>\n",
       "      <td>17.19</td>\n",
       "      <td>0.006404</td>\n",
       "    </tr>\n",
       "    <tr>\n",
       "      <th>500</th>\n",
       "      <td>529</td>\n",
       "      <td>17.19</td>\n",
       "      <td>0.000000</td>\n",
       "    </tr>\n",
       "    <tr>\n",
       "      <th>501</th>\n",
       "      <td>545</td>\n",
       "      <td>17.19</td>\n",
       "      <td>0.006411</td>\n",
       "    </tr>\n",
       "    <tr>\n",
       "      <th>502</th>\n",
       "      <td>581</td>\n",
       "      <td>17.19</td>\n",
       "      <td>0.084858</td>\n",
       "    </tr>\n",
       "    <tr>\n",
       "      <th>503</th>\n",
       "      <td>597</td>\n",
       "      <td>17.19</td>\n",
       "      <td>0.108239</td>\n",
       "    </tr>\n",
       "    <tr>\n",
       "      <th>504</th>\n",
       "      <td>599</td>\n",
       "      <td>17.19</td>\n",
       "      <td>1.000000</td>\n",
       "    </tr>\n",
       "    <tr>\n",
       "      <th>505</th>\n",
       "      <td>692</td>\n",
       "      <td>17.19</td>\n",
       "      <td>0.022849</td>\n",
       "    </tr>\n",
       "    <tr>\n",
       "      <th>506</th>\n",
       "      <td>706</td>\n",
       "      <td>17.19</td>\n",
       "      <td>0.004639</td>\n",
       "    </tr>\n",
       "    <tr>\n",
       "      <th>507</th>\n",
       "      <td>719</td>\n",
       "      <td>17.19</td>\n",
       "      <td>0.040965</td>\n",
       "    </tr>\n",
       "    <tr>\n",
       "      <th>508</th>\n",
       "      <td>802</td>\n",
       "      <td>17.19</td>\n",
       "      <td>0.010327</td>\n",
       "    </tr>\n",
       "    <tr>\n",
       "      <th>509</th>\n",
       "      <td>824</td>\n",
       "      <td>17.19</td>\n",
       "      <td>0.042010</td>\n",
       "    </tr>\n",
       "    <tr>\n",
       "      <th>510</th>\n",
       "      <td>1009</td>\n",
       "      <td>17.19</td>\n",
       "      <td>0.024545</td>\n",
       "    </tr>\n",
       "    <tr>\n",
       "      <th>511</th>\n",
       "      <td>1088</td>\n",
       "      <td>17.19</td>\n",
       "      <td>0.059227</td>\n",
       "    </tr>\n",
       "    <tr>\n",
       "      <th>512</th>\n",
       "      <td>1107</td>\n",
       "      <td>17.19</td>\n",
       "      <td>0.050248</td>\n",
       "    </tr>\n",
       "  </tbody>\n",
       "</table>\n",
       "<p>513 rows × 3 columns</p>\n",
       "</div>"
      ],
      "text/plain": [
       "     Number Target  T_Cosine\n",
       "0        13   17.1  1.000000\n",
       "1        26   17.1  0.124759\n",
       "2        47   17.1  0.148360\n",
       "3        53   17.1  0.101118\n",
       "4        60   17.1  0.079244\n",
       "5       112   17.1  0.116513\n",
       "6       118   17.1  0.073487\n",
       "7       128   17.1  0.613251\n",
       "8       159   17.1  0.091009\n",
       "9       192   17.1  0.024585\n",
       "10      215   17.1  0.024342\n",
       "11      251   17.1  0.176018\n",
       "12      252   17.1  0.113781\n",
       "13      363   17.1  0.036897\n",
       "14      529   17.1  0.035603\n",
       "15      545   17.1  0.036937\n",
       "16      581   17.1  0.120316\n",
       "17      597   17.1  0.114239\n",
       "18      599   17.1  0.040550\n",
       "19      692   17.1  0.061872\n",
       "20      706   17.1  0.007963\n",
       "21      719   17.1  0.121258\n",
       "22      802   17.1  0.023505\n",
       "23      824   17.1  0.078250\n",
       "24     1009   17.1  0.090217\n",
       "25     1088   17.1  0.017097\n",
       "26     1107   17.1  0.045509\n",
       "27       13   17.2  0.124759\n",
       "28       26   17.2  1.000000\n",
       "29       47   17.2  0.092084\n",
       "..      ...    ...       ...\n",
       "483    1009  17.18  0.111222\n",
       "484    1088  17.18  0.015705\n",
       "485    1107  17.18  0.019910\n",
       "486      13  17.19  0.040550\n",
       "487      26  17.19  0.026882\n",
       "488      47  17.19  0.052187\n",
       "489      53  17.19  0.145639\n",
       "490      60  17.19  0.061352\n",
       "491     112  17.19  0.011804\n",
       "492     118  17.19  0.017388\n",
       "493     128  17.19  0.033559\n",
       "494     159  17.19  0.056200\n",
       "495     192  17.19  0.002748\n",
       "496     215  17.19  0.150682\n",
       "497     251  17.19  0.015244\n",
       "498     252  17.19  0.043596\n",
       "499     363  17.19  0.006404\n",
       "500     529  17.19  0.000000\n",
       "501     545  17.19  0.006411\n",
       "502     581  17.19  0.084858\n",
       "503     597  17.19  0.108239\n",
       "504     599  17.19  1.000000\n",
       "505     692  17.19  0.022849\n",
       "506     706  17.19  0.004639\n",
       "507     719  17.19  0.040965\n",
       "508     802  17.19  0.010327\n",
       "509     824  17.19  0.042010\n",
       "510    1009  17.19  0.024545\n",
       "511    1088  17.19  0.059227\n",
       "512    1107  17.19  0.050248\n",
       "\n",
       "[513 rows x 3 columns]"
      ]
     },
     "execution_count": 622,
     "metadata": {},
     "output_type": "execute_result"
    }
   ],
   "source": [
    "x"
   ]
  },
  {
   "cell_type": "code",
   "execution_count": null,
   "metadata": {
    "collapsed": true
   },
   "outputs": [],
   "source": []
  }
 ],
 "metadata": {
  "anaconda-cloud": {},
  "kernelspec": {
   "display_name": "Python [conda root]",
   "language": "python",
   "name": "conda-root-py"
  },
  "language_info": {
   "codemirror_mode": {
    "name": "ipython",
    "version": 3
   },
   "file_extension": ".py",
   "mimetype": "text/x-python",
   "name": "python",
   "nbconvert_exporter": "python",
   "pygments_lexer": "ipython3",
   "version": "3.5.2"
  }
 },
 "nbformat": 4,
 "nbformat_minor": 1
}
