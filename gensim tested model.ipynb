{
 "cells": [
  {
   "cell_type": "code",
   "execution_count": 1,
   "metadata": {
    "collapsed": false
   },
   "outputs": [
    {
     "name": "stderr",
     "output_type": "stream",
     "text": [
      "C:\\Users\\DD\\Anaconda2\\lib\\site-packages\\gensim\\utils.py:855: UserWarning: detected Windows; aliasing chunkize to chunkize_serial\n",
      "  warnings.warn(\"detected Windows; aliasing chunkize to chunkize_serial\")\n"
     ]
    }
   ],
   "source": [
    "##this is to test if results of model are good ennough\n",
    "\n",
    "\n",
    "from nltk.stem.porter import *\n",
    "import nltk\n",
    "from nltk.tokenize import word_tokenize\n",
    "from nltk.corpus import stopwords\n",
    "from nltk.stem.lancaster import LancasterStemmer\n",
    "st = LancasterStemmer()\n",
    "\n",
    "import pandas as pd\n",
    "\n",
    "#import gensim\n",
    "from gensim import corpora, models, similarities\n",
    "import logging\n",
    "logging.basicConfig(format='%(asctime)s : %(levelname)s : %(message)s', level=logging.INFO)\n",
    "\n",
    "dirc = r'C:\\\\Users\\\\DD\\\\OneDrive\\\\Documents\\\\Rapid_Assessment_Tools\\\\Plans_test\\\\'"
   ]
  },
  {
   "cell_type": "code",
   "execution_count": 100,
   "metadata": {
    "collapsed": false
   },
   "outputs": [
    {
     "data": {
      "text/plain": [
       "1331"
      ]
     },
     "execution_count": 100,
     "metadata": {},
     "output_type": "execute_result"
    }
   ],
   "source": [
    "#load file to list 'paragraphs' split by paragraph\n",
    "\n",
    "f = open(dirc + 'Bhutan_1_utf8.txt', 'r').read().split(\"\\n\\n\")\n",
    "f = [i.replace('\\n', '') for i in f]\n",
    "\n",
    "paragraphs = []\n",
    "for lines in f:\n",
    "    if len(lines) > 120:\n",
    "        paragraphs.append(lines)\n",
    "len(paragraphs)"
   ]
  },
  {
   "cell_type": "code",
   "execution_count": 101,
   "metadata": {
    "collapsed": false
   },
   "outputs": [
    {
     "data": {
      "text/plain": [
       "1331"
      ]
     },
     "execution_count": 101,
     "metadata": {},
     "output_type": "execute_result"
    }
   ],
   "source": [
    "#tokenization\n",
    "p_tokenized = [[word.lower() for word in word_tokenize(document.decode('utf-8'))] for document in paragraphs]\n",
    "len(p_tokenized)"
   ]
  },
  {
   "cell_type": "code",
   "execution_count": 102,
   "metadata": {
    "collapsed": false,
    "scrolled": true
   },
   "outputs": [
    {
     "name": "stdout",
     "output_type": "stream",
     "text": [
      "[u'targeted', u'poverty', u'reduction', u'interventions', u',', u'four', u'villages', u'namely', u'dangochang', u',', u'chebesa', u',', u'barchong', u'tshochekha', u'supported', u'reap', u'phase', u'ii', u'.', u'income', u'generating', u'sustainable', u'livelihood', u'activities', u',', u'capacity', u'development', u'establishment', u'self-help', u'groups/cooperatives', u'interventions', u'village', u'level', u'additional', u'support', u'household', u'levels', u'provided', u'poorest', u'households', u'within', u'village', u'.', u'funds', u'programme', u'directly', u'provided', u'centre', u'.']\n"
     ]
    }
   ],
   "source": [
    "#remove stopwords\n",
    "english_stopwords = stopwords.words('english')\n",
    "p_no_stopwords = [[word for word in document if not word in english_stopwords] for document in p_tokenized]\n",
    "print p_no_stopwords[1220]"
   ]
  },
  {
   "cell_type": "code",
   "execution_count": 103,
   "metadata": {
    "collapsed": false
   },
   "outputs": [
    {
     "name": "stdout",
     "output_type": "stream",
     "text": [
      "[u'targeted', u'poverty', u'reduction', u'interventions', u'four', u'villages', u'namely', u'dangochang', u'chebesa', u'barchong', u'tshochekha', u'supported', u'reap', u'phase', u'ii', u'income', u'generating', u'sustainable', u'livelihood', u'activities', u'capacity', u'development', u'establishment', u'self-help', u'groups/cooperatives', u'interventions', u'village', u'level', u'additional', u'support', u'household', u'levels', u'provided', u'poorest', u'households', u'within', u'village', u'funds', u'programme', u'directly', u'provided', u'centre']\n"
     ]
    }
   ],
   "source": [
    "#remove punctuations\n",
    "english_punctuations = [',', '.', ':', ';', '?', '(', ')', '[', ']', '&', '!', '*', '@', '#', '$', '%', '...'] #add '...'\n",
    "p_filtered = [[word for word in document if not word in english_punctuations] for document in p_no_stopwords]\n",
    "print p_filtered[1220]"
   ]
  },
  {
   "cell_type": "code",
   "execution_count": 104,
   "metadata": {
    "collapsed": false
   },
   "outputs": [
    {
     "name": "stdout",
     "output_type": "stream",
     "text": [
      "[u'target', u'poverty', u'reduc', u'interv', u'four', u'vil', u'nam', u'dangochang', u'chebes', u'barchong', u'tshochekha', u'support', u'reap', u'phas', u'ii', u'incom', u'gen', u'sustain', u'liv', u'act', u'capac', u'develop', u'est', u'self-help', u'groups/cooperative', u'interv', u'vil', u'level', u'addit', u'support', u'household', u'level', u'provid', u'poorest', u'household', u'within', u'vil', u'fund', u'program', u'direct', u'provid', u'cent']\n"
     ]
    }
   ],
   "source": [
    "#stemming\n",
    "p_stemmed = [[st.stem(word) for word in docment] for docment in p_filtered]\n",
    "print p_stemmed[1220]"
   ]
  },
  {
   "cell_type": "code",
   "execution_count": 105,
   "metadata": {
    "collapsed": false
   },
   "outputs": [],
   "source": [
    "#remove word with low frequency\n",
    "all_stems = sum(p_stemmed, [])\n",
    "stems_once = set(stem for stem in set(all_stems) if all_stems.count(stem) == 1)\n",
    "texts = [[stem for stem in text if stem not in stems_once] for text in p_stemmed]"
   ]
  },
  {
   "cell_type": "code",
   "execution_count": 2,
   "metadata": {
    "collapsed": false
   },
   "outputs": [
    {
     "data": {
      "text/html": [
       "<div>\n",
       "<table border=\"1\" class=\"dataframe\">\n",
       "  <thead>\n",
       "    <tr style=\"text-align: right;\">\n",
       "      <th></th>\n",
       "      <th>ID</th>\n",
       "      <th>Target</th>\n",
       "    </tr>\n",
       "  </thead>\n",
       "  <tbody>\n",
       "    <tr>\n",
       "      <th>0</th>\n",
       "      <td>1.1</td>\n",
       "      <td>1.1 By 2030, eradicate extreme poverty for all...</td>\n",
       "    </tr>\n",
       "    <tr>\n",
       "      <th>1</th>\n",
       "      <td>1.2</td>\n",
       "      <td>1.2 By 2030, reduce at least by half the propo...</td>\n",
       "    </tr>\n",
       "    <tr>\n",
       "      <th>2</th>\n",
       "      <td>1.3</td>\n",
       "      <td>1.3 Implement nationally appropriate social pr...</td>\n",
       "    </tr>\n",
       "    <tr>\n",
       "      <th>3</th>\n",
       "      <td>1.4</td>\n",
       "      <td>1.4 By 2030, ensure that all men and women, in...</td>\n",
       "    </tr>\n",
       "    <tr>\n",
       "      <th>4</th>\n",
       "      <td>1.5</td>\n",
       "      <td>1.5 By 2030, build the resilience of the poor ...</td>\n",
       "    </tr>\n",
       "  </tbody>\n",
       "</table>\n",
       "</div>"
      ],
      "text/plain": [
       "    ID                                             Target\n",
       "0  1.1  1.1 By 2030, eradicate extreme poverty for all...\n",
       "1  1.2  1.2 By 2030, reduce at least by half the propo...\n",
       "2  1.3  1.3 Implement nationally appropriate social pr...\n",
       "3  1.4  1.4 By 2030, ensure that all men and women, in...\n",
       "4  1.5  1.5 By 2030, build the resilience of the poor ..."
      ]
     },
     "execution_count": 2,
     "metadata": {},
     "output_type": "execute_result"
    }
   ],
   "source": [
    "######## load goals\n",
    "\n",
    "#use SDG as query\n",
    "\n",
    "targets = pd.read_excel(dirc +'SDG sub goals.xlsx', names = ['ID', 'Target'],sheetname = 'Sheet1')\n",
    "targets.head()"
   ]
  },
  {
   "cell_type": "code",
   "execution_count": 4,
   "metadata": {
    "collapsed": false
   },
   "outputs": [
    {
     "data": {
      "text/plain": [
       "u'2.4 By 2030, ensure sustainable food production systems and implement resilient agricultural practices that increase productivity and production, that help maintain ecosystems, that strengthen capacity for adaptation to climate change, extreme weather, drought, flooding and other disasters and that progressively improve land and soil quality\\xa0'"
      ]
     },
     "execution_count": 4,
     "metadata": {},
     "output_type": "execute_result"
    }
   ],
   "source": [
    "#make a list with goal contents\n",
    "\n",
    "goal = []\n",
    "for doc in targets.iloc[:]['Target']:\n",
    "    goal.append(doc)\n",
    "\n",
    "goal_id = targets.iloc[:]['ID']\n",
    "goal[10] #test goal 2.4\n",
    "#goal_id[10]"
   ]
  },
  {
   "cell_type": "code",
   "execution_count": 108,
   "metadata": {
    "collapsed": false
   },
   "outputs": [
    {
     "data": {
      "text/plain": [
       "38"
      ]
     },
     "execution_count": 108,
     "metadata": {},
     "output_type": "execute_result"
    }
   ],
   "source": [
    "#tokenization\n",
    "goal_tokenized = [[word.lower() for word in word_tokenize(document)] for document in goal]\n",
    "\n",
    "#remove stopwords\n",
    "goal_no_sw = [[word for word in document if not word in english_stopwords] for document in goal_tokenized]\n",
    "\n",
    "#stemming\n",
    "goal_stemmed = [[st.stem(word) for word in l] for l in goal_no_sw]\n",
    "len(goal_stemmed[10])"
   ]
  },
  {
   "cell_type": "code",
   "execution_count": 109,
   "metadata": {
    "collapsed": false
   },
   "outputs": [
    {
     "data": {
      "text/plain": [
       "38"
      ]
     },
     "execution_count": 109,
     "metadata": {},
     "output_type": "execute_result"
    }
   ],
   "source": [
    "g_query = goal_stemmed #_frequent\n",
    "len(g_query[10])"
   ]
  },
  {
   "cell_type": "code",
   "execution_count": null,
   "metadata": {
    "collapsed": true
   },
   "outputs": [],
   "source": [
    "####### match"
   ]
  },
  {
   "cell_type": "code",
   "execution_count": 110,
   "metadata": {
    "collapsed": false
   },
   "outputs": [
    {
     "name": "stderr",
     "output_type": "stream",
     "text": [
      "2017-02-09 22:33:33,306 : INFO : adding document #0 to Dictionary(0 unique tokens: [])\n",
      "2017-02-09 22:33:33,509 : INFO : built Dictionary(3046 unique tokens: [u'lhuents', u'1200', u'bear', u'four', u'phajod']...) from 1331 documents (total 56199 corpus positions)\n"
     ]
    }
   ],
   "source": [
    "dictionary = corpora.Dictionary(texts)"
   ]
  },
  {
   "cell_type": "code",
   "execution_count": 111,
   "metadata": {
    "collapsed": false
   },
   "outputs": [
    {
     "name": "stderr",
     "output_type": "stream",
     "text": [
      "2017-02-09 22:33:34,825 : INFO : collecting document frequencies\n",
      "2017-02-09 22:33:34,828 : INFO : PROGRESS: processing document #0\n",
      "2017-02-09 22:33:34,844 : INFO : calculating IDF weights for 1331 documents and 3045 features (44303 matrix non-zeros)\n"
     ]
    }
   ],
   "source": [
    "corpus = [dictionary.doc2bow(text) for text in texts]\n",
    "tfidf = models.TfidfModel(corpus)"
   ]
  },
  {
   "cell_type": "code",
   "execution_count": 112,
   "metadata": {
    "collapsed": true
   },
   "outputs": [],
   "source": [
    "corpus_tfidf = tfidf[corpus]"
   ]
  },
  {
   "cell_type": "code",
   "execution_count": 113,
   "metadata": {
    "collapsed": false
   },
   "outputs": [
    {
     "name": "stderr",
     "output_type": "stream",
     "text": [
      "2017-02-09 22:33:37,979 : INFO : using serial LSI version on this node\n",
      "2017-02-09 22:33:37,980 : INFO : updating model with new documents\n",
      "2017-02-09 22:33:38,174 : INFO : preparing a new chunk of documents\n",
      "2017-02-09 22:33:38,198 : INFO : using 100 extra samples and 2 power iterations\n",
      "2017-02-09 22:33:38,200 : INFO : 1st phase: constructing (3046L, 200L) action matrix\n",
      "2017-02-09 22:33:38,266 : INFO : orthonormalizing (3046L, 200L) action matrix\n",
      "2017-02-09 22:33:38,571 : INFO : 2nd phase: running dense svd on (200L, 1331L) matrix\n",
      "2017-02-09 22:33:38,673 : INFO : computing the final decomposition\n",
      "2017-02-09 22:33:38,677 : INFO : keeping 100 factors (discarding 25.261% of energy spectrum)\n",
      "2017-02-09 22:33:38,697 : INFO : processed documents up to #1331\n",
      "2017-02-09 22:33:38,703 : INFO : topic #0(6.418): 0.166*\"develop\" + 0.145*\"dzongkh\" + 0.139*\"perc\" + 0.135*\"poverty\" + 0.134*\"program\" + 0.131*\"plan\" + 0.128*\"produc\" + 0.115*\"serv\" + 0.114*\"ii\" + 0.114*\"tour\"\n",
      "2017-02-09 22:33:38,707 : INFO : topic #1(4.390): -0.261*\"ii\" + -0.229*\"vil\" + -0.219*\"interv\" + -0.193*\"poverty\" + -0.185*\"development°±\" + -0.185*\"°∞self-reliance\" + -0.177*\"program\" + -0.171*\"keep\" + 0.171*\"proport\" + -0.147*\"green\"\n",
      "2017-02-09 22:33:38,710 : INFO : topic #2(4.171): -0.284*\"proport\" + -0.259*\"vil\" + -0.228*\"household\" + -0.189*\"1\" + -0.169*\"pop\" + -0.163*\"2\" + -0.150*\"3\" + -0.145*\"support\" + 0.114*\"sect\" + -0.112*\"interv\"\n",
      "2017-02-09 22:33:38,713 : INFO : topic #3(4.074): 0.243*\"perc\" + -0.193*\"farm\" + 0.193*\"vil\" + -0.182*\"market\" + -0.179*\"facil\" + -0.172*\"produc\" + -0.162*\"agricult\" + -0.151*\"livestock\" + 0.150*\"level\" + -0.142*\"tour\"\n",
      "2017-02-09 22:33:38,717 : INFO : topic #4(3.873): 0.291*\"proport\" + 0.243*\"pop\" + -0.175*\"vil\" + 0.173*\"ii\" + 0.168*\"development°±\" + 0.167*\"°∞self-reliance\" + 0.160*\"tour\" + -0.155*\"support\" + 0.155*\"keep\" + -0.139*\"market\"\n",
      "2017-02-09 22:33:38,730 : WARNING : scanning corpus to determine the number of features (consider setting `num_features` explicitly)\n",
      "2017-02-09 22:33:38,924 : INFO : creating matrix with 1331 documents and 100 features\n"
     ]
    }
   ],
   "source": [
    "lsi = models.LsiModel(corpus_tfidf, id2word=dictionary, num_topics=100)\n",
    "index = similarities.MatrixSimilarity(lsi[corpus])"
   ]
  },
  {
   "cell_type": "code",
   "execution_count": 114,
   "metadata": {
    "collapsed": false
   },
   "outputs": [
    {
     "name": "stdout",
     "output_type": "stream",
     "text": [
      "[(0, 1.2972206589269133), (1, 0.088925257383483919), (2, 0.24808711278194165), (3, -0.65466234974048498), (4, -0.095503566459803055), (5, 0.47534347972603308), (6, 0.0067641619610999005), (7, -0.05965910476917835), (8, 0.35082223425362685), (9, 0.070181935471937643), (10, 0.63539622162843823), (11, 0.47411219713726344), (12, 0.10613372993319391), (13, 0.36859680340839035), (14, -0.09249730397019873), (15, 0.27517854971093697), (16, 0.56526586870670392), (17, -0.085797960376535337), (18, -0.1723030294707322), (19, 0.28553960638127313), (20, -0.16119975451707441), (21, -0.56237564788452421), (22, -0.15957021979545713), (23, 0.2367713354665707), (24, -0.22981334140254675), (25, -0.072094376353957004), (26, -0.01989236020951788), (27, -0.21599411078623534), (28, 0.25339044298429186), (29, -0.29076714003021964), (30, -0.26774418324492827), (31, 0.25825989764162616), (32, 0.12278677400326508), (33, -0.53004866005415541), (34, -0.29410345720288689), (35, 0.33581396690152621), (36, -0.2716351370259007), (37, -0.71652824748045818), (38, -0.099824580807496358), (39, -0.36848135803632809), (40, -0.56232630046563881), (41, -0.55698733098688147), (42, 0.20444952474300079), (43, -0.17862809081664444), (44, 0.58768670700292225), (45, -0.03958156359102729), (46, -0.43822603158047052), (47, 0.075052936594515507), (48, -0.48890204677189369), (49, 0.054718873988997566), (50, -0.36557166687669523), (51, -0.38411639508010853), (52, 0.04280587147540308), (53, 0.1811454930543891), (54, -0.42757613407739842), (55, 0.31924342457709221), (56, 0.59214752508673429), (57, 0.0861650731764977), (58, 0.15342601121252705), (59, -0.20185391578641726), (60, 0.17466244117375163), (61, -0.064904341998486478), (62, 0.20866943492573639), (63, -0.24928708369170005), (64, 0.069163576607237306), (65, -0.049181922226676632), (66, -0.22157309271198009), (67, 0.11102998299967175), (68, 0.076142705551032433), (69, 0.30572791554014844), (70, -0.39338278339034943), (71, 0.050334933971579003), (72, 0.16052095007592787), (73, 0.2693987552459246), (74, 0.20015796070688707), (75, 0.16192917302411144), (76, 0.053889840953069659), (77, 0.26046674667090225), (78, -0.12040745946075482), (79, 0.21506640727840845), (80, -0.051713240848496725), (81, 0.029162084383638379), (82, -0.87239458038386009), (83, -0.10064634092400482), (84, 0.21414959235023598), (85, -0.40169301802590918), (86, -0.23717216442085579), (87, 0.30446223688309354), (88, 0.46053199031430897), (89, -0.092875313131647652), (90, -0.066739817255906581), (91, 0.24034676901148677), (92, 0.11408004099293116), (93, -0.13693017215893238), (94, 0.01932916397805232), (95, 0.17568346981744101), (96, -0.11296084772601837), (97, -0.031526473644826865), (98, 0.31097391961504167), (99, 0.11879314697529612)]\n"
     ]
    }
   ],
   "source": [
    "ml_bhutan = g_query[10]\n",
    "ml_bow = dictionary.doc2bow(ml_bhutan)\n",
    "ml_lsi = lsi[ml_bow]\n",
    "print ml_lsi"
   ]
  },
  {
   "cell_type": "code",
   "execution_count": 115,
   "metadata": {
    "collapsed": true
   },
   "outputs": [],
   "source": [
    "sims = index[ml_lsi]\n",
    "sort_sims = sorted(enumerate(sims), key=lambda item: -item[1])\n",
    "print sort_sims[0:100]"
   ]
  },
  {
   "cell_type": "code",
   "execution_count": 121,
   "metadata": {
    "collapsed": false
   },
   "outputs": [
    {
     "name": "stdout",
     "output_type": "stream",
     "text": [
      "[(1200, 0.66191697), (1073, 0.64783651), (1247, 0.60438156), (913, 0.59683526), (955, 0.59352064), (961, 0.58773202), (1205, 0.58550191), (546, 0.57644147), (888, 0.56564564), (1100, 0.55881101), (1263, 0.55172247), (1223, 0.55079901), (1258, 0.54877734), (893, 0.5242762), (851, 0.52047467), (548, 0.51088679), (592, 0.50845969), (985, 0.49169022), (963, 0.48994967), (547, 0.4875178), (794, 0.48632097), (873, 0.48593187), (1265, 0.48093945), (981, 0.47951704), (531, 0.47765028), (536, 0.47104299), (146, 0.47097301), (568, 0.46413511), (1242, 0.46098131), (1044, 0.45911366), (1029, 0.45651177), (1081, 0.45338455), (939, 0.44186842), (865, 0.44036543), (847, 0.43858761), (957, 0.43650028), (1142, 0.43411362), (1215, 0.43320528), (796, 0.43110844), (321, 0.4306623), (544, 0.42612472), (1054, 0.4224385), (1079, 0.41344863), (1090, 0.41108328), (760, 0.40901059), (60, 0.40807366), (930, 0.40752453), (1030, 0.40519369), (1147, 0.4043867), (1105, 0.40372801), (277, 0.40062758), (366, 0.39149612), (1183, 0.38870078), (542, 0.38853946), (448, 0.38590229), (363, 0.38351321), (21, 0.37746277), (62, 0.37592819), (209, 0.37428379), (1278, 0.37287825), (609, 0.37023613), (143, 0.36965936), (362, 0.3695454), (1121, 0.36915624), (790, 0.36768532), (954, 0.36731821), (198, 0.35997093), (538, 0.35816044), (571, 0.35698083), (842, 0.35339326), (905, 0.35098547), (539, 0.34792215), (268, 0.34378242), (844, 0.34055069), (458, 0.33929563), (1180, 0.33888736), (596, 0.33839136), (208, 0.33649266), (1254, 0.33600944), (1217, 0.33557197), (369, 0.3349936), (836, 0.3325623), (294, 0.33228272), (797, 0.33186597), (983, 0.33013004), (628, 0.32986358), (159, 0.32823303), (910, 0.32796723), (1004, 0.32498306), (205, 0.32410705), (494, 0.32225919), (581, 0.31996441), (136, 0.31841776), (1053, 0.31718764), (368, 0.31299552), (537, 0.31216055), (885, 0.31119001), (1107, 0.30887604), (398, 0.30782789), (147, 0.30746108)]\n"
     ]
    }
   ],
   "source": []
  },
  {
   "cell_type": "code",
   "execution_count": 119,
   "metadata": {
    "collapsed": false
   },
   "outputs": [
    {
     "data": {
      "text/plain": [
       "'Trongsa has suitable climatic conditions which is conducive for enhancing agricultural and horticultural products, besides livestock products such as poultry, piggery and dairy backyard farming. '"
      ]
     },
     "execution_count": 119,
     "metadata": {},
     "output_type": "execute_result"
    }
   ],
   "source": [
    "paragraphs[1200] #ranking 1"
   ]
  },
  {
   "cell_type": "code",
   "execution_count": 122,
   "metadata": {
    "collapsed": false
   },
   "outputs": [
    {
     "data": {
      "text/plain": [
       "'With a strong emphasis on improving the health and education outcomes, achieving progress in the HAI may not be a major constraint other than improving the adult literacy rate which may pose a challenge. However, improving the EVI will require special efforts particularly in addressing economic imbalances, productive capacities and diversification challenges. This will not be easy. Hence, the goodwill, support and cooperation of our development partner in the coming years will be critical for Bhutan. Furthermore, even beyond 2020, Bhutan may require continued cooperation and support from its development partners to ensure that the transition will help establish a solid economic foundation that is dynamic and resilient. '"
      ]
     },
     "execution_count": 122,
     "metadata": {},
     "output_type": "execute_result"
    }
   ],
   "source": [
    "paragraphs[147] #ranking 100"
   ]
  },
  {
   "cell_type": "code",
   "execution_count": 6,
   "metadata": {
    "collapsed": false
   },
   "outputs": [
    {
     "data": {
      "text/plain": [
       "u'2.4 By 2030, ensure sustainable food production systems and implement resilient agricultural practices that increase productivity and production, that help maintain ecosystems, that strengthen capacity for adaptation to climate change, extreme weather, drought, flooding and other disasters and that progressively improve land and soil quality\\xa0'"
      ]
     },
     "execution_count": 6,
     "metadata": {},
     "output_type": "execute_result"
    }
   ],
   "source": [
    "#testing goal 2.4\n",
    "goal[10]\n",
    "#goal_id[10]"
   ]
  }
 ],
 "metadata": {
  "kernelspec": {
   "display_name": "Python 2",
   "language": "python",
   "name": "python2"
  },
  "language_info": {
   "codemirror_mode": {
    "name": "ipython",
    "version": 2
   },
   "file_extension": ".py",
   "mimetype": "text/x-python",
   "name": "python",
   "nbconvert_exporter": "python",
   "pygments_lexer": "ipython2",
   "version": "2.7.13"
  }
 },
 "nbformat": 4,
 "nbformat_minor": 2
}
