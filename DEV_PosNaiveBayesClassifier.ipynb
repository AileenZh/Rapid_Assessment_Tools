{
 "cells": [
  {
   "cell_type": "code",
   "execution_count": 86,
   "metadata": {
    "collapsed": true
   },
   "outputs": [],
   "source": [
    "from nltk.classify import PositiveNaiveBayesClassifier #http://www.nltk.org/api/nltk.classify.html#module-nltk.classify\n",
    "from nltk.stem.porter import *\n",
    "from nltk.corpus import stopwords"
   ]
  },
  {
   "cell_type": "code",
   "execution_count": 97,
   "metadata": {
    "collapsed": false
   },
   "outputs": [],
   "source": [
    "#file import and pre processing.  using sample article as text, not UN paper\n",
    "\n",
    "file = open('C:\\\\Users\\\\Travis Park\\\\Google Drive\\\\UN\\\\Team MOZART RAP\\\\test_text.txt',encoding='utf8').read().replace('\\n',' ').split(' ')\n",
    "\n",
    "file = [PorterStemmer().stem(word) for word in file]\n",
    "file_str = ' '.join(file)\n",
    "\n",
    "stop = set(stopwords.words('english'))\n",
    "file_str = ' '.join([word for word in file_str.split() if word not in stop])\n",
    "\n",
    "file = file_str.split('. ')\n",
    "\n",
    "file[1]"
   ]
  },
  {
   "cell_type": "code",
   "execution_count": 99,
   "metadata": {
    "collapsed": false
   },
   "outputs": [],
   "source": [
    "#output from cosine similarity used to train classifier. (relevant_sentences are those with high tfidf similarity.  currently manually selected, would like to automate)\n",
    "relevant_sentences = [file[0],file[3],file[4],file[6],file[13],file[16],file[17],file[19],file[20],file[23]]\n",
    "\n",
    "various_sentences = [file[24],file[25],file[26],file[27],file[28],file[29],file[30],file[31],file[32],file[33],file[34],file[35],file[36],file[37],file[38]]"
   ]
  },
  {
   "cell_type": "code",
   "execution_count": 100,
   "metadata": {
    "collapsed": false
   },
   "outputs": [],
   "source": [
    "def features(sentence):\n",
    "    words = sentence.lower().split()\n",
    "    return dict(('contains(%s)' % w, True) for w in words)"
   ]
  },
  {
   "cell_type": "code",
   "execution_count": 101,
   "metadata": {
    "collapsed": false
   },
   "outputs": [],
   "source": [
    "positive_featuresets = list(map(features, relevant_sentences))\n",
    "unlabeled_featuresets = list(map(features, various_sentences))\n",
    "classifier = PositiveNaiveBayesClassifier.train(positive_featuresets, unlabeled_featuresets,positive_prob_prior=0.99)"
   ]
  },
  {
   "cell_type": "code",
   "execution_count": 102,
   "metadata": {
    "collapsed": false
   },
   "outputs": [
    {
     "data": {
      "text/plain": [
       "True"
      ]
     },
     "execution_count": 102,
     "metadata": {},
     "output_type": "execute_result"
    }
   ],
   "source": [
    "classifier.classify(features(file[32]))"
   ]
  },
  {
   "cell_type": "code",
   "execution_count": 104,
   "metadata": {
    "collapsed": false
   },
   "outputs": [
    {
     "data": {
      "text/plain": [
       "'defin extrem poverty[edit] income-bas definition[edit] extrem poverti defin intern commun earn less $1.25 day, measur 2005 intern prices'"
      ]
     },
     "execution_count": 104,
     "metadata": {},
     "output_type": "execute_result"
    }
   ],
   "source": [
    "file[0]"
   ]
  },
  {
   "cell_type": "code",
   "execution_count": null,
   "metadata": {
    "collapsed": true
   },
   "outputs": [],
   "source": [
    "#classifies everything as true..."
   ]
  }
 ],
 "metadata": {
  "anaconda-cloud": {},
  "kernelspec": {
   "display_name": "Python [conda root]",
   "language": "python",
   "name": "conda-root-py"
  },
  "language_info": {
   "codemirror_mode": {
    "name": "ipython",
    "version": 3
   },
   "file_extension": ".py",
   "mimetype": "text/x-python",
   "name": "python",
   "nbconvert_exporter": "python",
   "pygments_lexer": "ipython3",
   "version": "3.5.2"
  }
 },
 "nbformat": 4,
 "nbformat_minor": 1
}
